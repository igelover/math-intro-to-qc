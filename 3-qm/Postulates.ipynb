{
 "cells": [
  {
   "cell_type": "markdown",
   "id": "6dba718d",
   "metadata": {},
   "source": [
    "<a href=\"https://qworld.net\" target=\"_blank\" align=\"left\"><img src=\"../qworld/images/header.jpg\"  align=\"left\"></a>\n",
    "$$\n",
    "\\newcommand{\\set}[1]{\\left\\{#1\\right\\}}\n",
    "\\newcommand{\\abs}[1]{\\left\\lvert#1\\right\\rvert}\n",
    "\\newcommand{\\norm}[1]{\\left\\lVert#1\\right\\rVert}\n",
    "\\newcommand{\\inner}[2]{\\left\\langle#1,#2\\right\\rangle}\n",
    "\\newcommand{\\bra}[1]{\\left\\langle#1\\right|}\n",
    "\\newcommand{\\ket}[1]{\\left|#1\\right\\rangle}\n",
    "\\newcommand{\\braket}[2]{\\left\\langle#1|#2\\right\\rangle}\n",
    "\\newcommand{\\ketbra}[2]{\\left|#1\\right\\rangle\\left\\langle#2\\right|}\n",
    "\\newcommand{\\angleset}[1]{\\left\\langle#1\\right\\rangle}\n",
    "\\newcommand{\\expected}[1]{\\left\\langle#1\\right\\rangle}\n",
    "$$"
   ]
  },
  {
   "cell_type": "markdown",
   "id": "27ff6a6e",
   "metadata": {},
   "source": [
    "# Quantum Mechanics Postulates\n",
    "\n",
    "_prepared by Israel Gelover_"
   ]
  },
  {
   "cell_type": "markdown",
   "id": "6ac142f3",
   "metadata": {},
   "source": [
    "In these notebooks we will only mention the minimum details of quantum mechanics that are needed to be able to develop an introduction to quantum computing."
   ]
  },
  {
   "cell_type": "markdown",
   "id": "e92cbaec",
   "metadata": {},
   "source": [
    "### <a name=\"definition_3_1\">Definition 3.1</a> Quantum Mechanics Postulates\n",
    "\n",
    "I. Every physical system (bounded and closed, meaning that the energy is preserved) has associated a Hilbert space over the field of complex numbers, separable (of finite or countable dimension), with Hermitian inner product, and the states of such system correspond to unit vectors of the associated space and which are also equivalent if they differ by a global phase.\n",
    "\n",
    "II. The Hilbert space associated with a composite system is the tensor product of the spaces associated with the subsystems.\n",
    "\n",
    "III. The symmetries of a quantum system are described by unitary (or antiunitary) operators that act on the state space. (Emmy Noether's theorem)\n",
    "\n",
    "IV. The magnitudes that can be measured in a system are described by self-adjoint operators. The results of the measurements correspond to the eigenvalues (elements of the spectrum) of the operator associated with the magnitude being measured.\n",
    "Recall that the eigenvalues of a self-adjoint operator are real numbers.\n",
    "\n",
    "V. The probability of measuring a value $a$ (eigenvalue of a self-adjoint operator $\\hat{A}$) when the system is in the state $\\ket{\\psi}$ is:\n",
    "\n",
    "\\begin{equation*}\n",
    "    P_\\psi(a) = \\sum_{j=1}^{g_a} \\abs{\\braket{a_j}{\\psi}}^2\n",
    "\\end{equation*} \n",
    "\n",
    "where $\\hat{A}\\ket{a_j} = a\\ket{a_j} \\forall j=1,\\cdots,g_a$.\n",
    "\n",
    "Hence the importance of requiring unit vectors, since we do not know in advance what value we are going to obtain when making a measurement, however we can know the probability of measuring these values. Note: $g_a$ is the multiplicity of the eigenvalue, so if $g_a=1 \\implies P_\\psi(a) = \\abs{\\braket{a}{\\psi}}^2$.  \n",
    "For the continuous case we have:\n",
    "\n",
    "\\begin{equation*}\n",
    "    P_\\psi([a,b]) = \\int_a^b \\abs{\\braket{x}{\\psi}}^2 dx\n",
    "\\end{equation*}\n",
    "\n",
    "VI. If the measurement of the physical magnitude (modeled by the operator $\\hat{A}$), gives as a result the eigenvalue $a$, the state of the system immediately after the measurement is given by its projection (normalized) to the subspace $\\mathcal{L}(a)$.\n",
    "This is what is commonly described when it is said that a system cannot be observed without altering it, that is, the measurement itself affects the state of the system and this postulate tells us how it is affected.\n",
    "\n",
    "VII. The temporal evolution of a state $\\ket{\\psi}$ is given by _Schrödinger Equation_:\n",
    "\n",
    "\\begin{equation*}\n",
    "    i\\hbar\\frac{d}{dt}\\ket{\\psi(t)} = \\hat{H}\\ket{\\psi(t)}\n",
    "\\end{equation*}\n",
    "\n",
    "Where $\\hat{H}$ is the _Hamiltonian_ or operator associated with the energy of the system."
   ]
  }
 ],
 "metadata": {
  "kernelspec": {
   "display_name": "Python 3",
   "language": "python",
   "name": "python3"
  },
  "language_info": {
   "codemirror_mode": {
    "name": "ipython",
    "version": 3
   },
   "file_extension": ".py",
   "mimetype": "text/x-python",
   "name": "python",
   "nbconvert_exporter": "python",
   "pygments_lexer": "ipython3",
   "version": "3.8.8"
  }
 },
 "nbformat": 4,
 "nbformat_minor": 5
}
