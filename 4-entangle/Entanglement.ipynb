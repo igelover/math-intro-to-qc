{
 "cells": [
  {
   "cell_type": "markdown",
   "id": "6dba718d",
   "metadata": {},
   "source": [
    "<a href=\"https://qworld.net\" target=\"_blank\" align=\"left\"><img src=\"../qworld/images/header.jpg\"  align=\"left\"></a>\n",
    "$$\n",
    "\\newcommand{\\set}[1]{\\left\\{#1\\right\\}}\n",
    "\\newcommand{\\abs}[1]{\\left\\lvert#1\\right\\rvert}\n",
    "\\newcommand{\\norm}[1]{\\left\\lVert#1\\right\\rVert}\n",
    "\\newcommand{\\inner}[2]{\\left\\langle#1,#2\\right\\rangle}\n",
    "\\newcommand{\\bra}[1]{\\left\\langle#1\\right|}\n",
    "\\newcommand{\\ket}[1]{\\left|#1\\right\\rangle}\n",
    "\\newcommand{\\braket}[2]{\\left\\langle#1|#2\\right\\rangle}\n",
    "\\newcommand{\\ketbra}[2]{\\left|#1\\right\\rangle\\left\\langle#2\\right|}\n",
    "\\newcommand{\\angleset}[1]{\\left\\langle#1\\right\\rangle}\n",
    "\\newcommand{\\expected}[1]{\\left\\langle#1\\right\\rangle}\n",
    "\\newcommand{\\dv}[2]{\\frac{d#1}{d#2}}\n",
    "\\newcommand{\\real}[0]{\\mathfrak{Re}}\n",
    "$$"
   ]
  },
  {
   "cell_type": "markdown",
   "id": "27ff6a6e",
   "metadata": {},
   "source": [
    "# Quantum Entanglement\n",
    "\n",
    "_prepared by Israel Gelover_"
   ]
  },
  {
   "cell_type": "markdown",
   "id": "b027236f",
   "metadata": {},
   "source": [
    "### <a name=\"definition_4_2\">Definition 4.2</a> Quantum Entanglement\n",
    "\n",
    "Let's consider two systems $A$ and $B$, with associated Hilbert spaces $\\mathcal{H}_A$ and $\\mathcal{H}_B$ respectively. Recall that by <a href=\"../3-qm/Postulates.ipynb#definition_3_1\">Postulate II</a>, the Hilbert space associated with a composite system is the tensor product of the spaces associated with the subsystems. Thus, we say that a state of the compound space $\\ket{\\psi} \\in \\mathcal{H}_A \\otimes \\mathcal{H}_B$ is entangled if there are no $\\ket{\\alpha} \\in \\mathcal{H}_A$ and $\\ket{\\beta} \\in \\mathcal{H}_B$ such that\n",
    "\n",
    "\\begin{equation*}\n",
    "    \\ket{\\psi} = \\ket{\\alpha} \\otimes \\ket{\\beta}\n",
    "\\end{equation*}"
   ]
  },
  {
   "cell_type": "markdown",
   "id": "a40aa47e",
   "metadata": {},
   "source": [
    "What this is telling us in essence, is that the state is entangled if it cannot be factored. Let us remember that in the development of the EPR paradox, it could not be said that one of the particles was in a $\\ket{\\alpha}$ state and the other in a $\\ket{\\beta}$ state, but both together they were in a state that could not be described as a part of $A$ and a part of $B$. Note that entanglement is not a peculiarity of the system, but of the state in which the system is. Quantum entanglement provides us with correlations between systems, but a stronger type of correlation than classical correlations."
   ]
  },
  {
   "cell_type": "markdown",
   "id": "350a6a49",
   "metadata": {},
   "source": [
    "### Task 1.\n",
    "\n",
    "Consider the state $\\ket{\\psi} = \\frac{1}{\\sqrt{2}}(\\ket{00} + \\ket{11})$, show that there are no states $\\ket{\\alpha}$ and $\\ket{\\beta}$ such that $\\ket{\\alpha} \\otimes \\ket{\\beta} = \\ket{\\psi}$\n",
    "\n",
    "<a href=\"./Entanglement_Solutions.ipynb#task_1\">Click here for solution</a>"
   ]
  }
 ],
 "metadata": {
  "kernelspec": {
   "display_name": "Python 3",
   "language": "python",
   "name": "python3"
  },
  "language_info": {
   "codemirror_mode": {
    "name": "ipython",
    "version": 3
   },
   "file_extension": ".py",
   "mimetype": "text/x-python",
   "name": "python",
   "nbconvert_exporter": "python",
   "pygments_lexer": "ipython3",
   "version": "3.8.8"
  }
 },
 "nbformat": 4,
 "nbformat_minor": 5
}
