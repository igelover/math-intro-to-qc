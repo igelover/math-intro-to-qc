{
 "cells": [
  {
   "cell_type": "markdown",
   "id": "6dba718d",
   "metadata": {},
   "source": [
    "<a href=\"https://qworld.net\" target=\"_blank\" align=\"left\"><img src=\"../qworld/images/header.jpg\"  align=\"left\"></a>\n",
    "$$\n",
    "\\newcommand{\\set}[1]{\\left\\{#1\\right\\}}\n",
    "\\newcommand{\\abs}[1]{\\left\\lvert#1\\right\\rvert}\n",
    "\\newcommand{\\norm}[1]{\\left\\lVert#1\\right\\rVert}\n",
    "\\newcommand{\\inner}[2]{\\left\\langle#1,#2\\right\\rangle}\n",
    "\\newcommand{\\bra}[1]{\\left\\langle#1\\right|}\n",
    "\\newcommand{\\ket}[1]{\\left|#1\\right\\rangle}\n",
    "\\newcommand{\\braket}[2]{\\left\\langle#1|#2\\right\\rangle}\n",
    "\\newcommand{\\ketbra}[2]{\\left|#1\\right\\rangle\\left\\langle#2\\right|}\n",
    "\\newcommand{\\angleset}[1]{\\left\\langle#1\\right\\rangle}\n",
    "\\newcommand{\\expected}[1]{\\left\\langle#1\\right\\rangle}\n",
    "\\newcommand{\\dv}[2]{\\frac{d#1}{d#2}}\n",
    "\\newcommand{\\real}[0]{\\mathfrak{Re}}\n",
    "$$"
   ]
  },
  {
   "cell_type": "markdown",
   "id": "27ff6a6e",
   "metadata": {},
   "source": [
    "# Quantum Entanglement\n",
    "\n",
    "_prepared by Israel Gelover_"
   ]
  },
  {
   "cell_type": "markdown",
   "id": "8b4abdcd",
   "metadata": {},
   "source": [
    "_Quantum Entanglement_ is a property that quantum systems have and that is fundamental in the quantum world. It is a complex property to understand and explain and is the subject of many discussions about its interpretation since we do not have a specific theoretical model that allows us to model this type of interaction. One way of looking at it is as the connection between the microscopic world and the macroscopic world, and it is a possible solution or at least one argument that is given for the measurement problem in quantum mechanics.\n",
    "\n",
    "Historically, quantum entanglement began to be seen as something \"weird\", after an article in which two classical, apparently natural properties of physical systems are addressed, and what is demonstrated in that article is that these properties (apparently natural) are incompatible with quantum mechanics, reaching an apparent paradox, which is currently known as the _Einstein-Podolsky-Rosen Paradox_. Later John Bell devised an experiment designed to agree with Einstein, Podolsky, and Rosen. In this work, Bell derived an inequality that could be implemented experimentally in order to show that quantum mechanics was an incomplete theory. However, experimentally the opposite was shown, that quantum mechanics is correct and what's wrong were the assumptions used in the EPR paradox.\n",
    "\n",
    "In this section we are going to discuss this topic in that historical order, first we will address the EPR paradox, after Bell's inequality and finally we will give a definition of quantum entanglement."
   ]
  },
  {
   "cell_type": "markdown",
   "id": "aaca273f",
   "metadata": {},
   "source": [
    "# Einstein-Podolsky-Rosen Paradox"
   ]
  },
  {
   "cell_type": "markdown",
   "id": "befa9b23",
   "metadata": {},
   "source": [
    "In order to address the EPR paradox, we are going to introduce a simplified version of two concepts that are key in the construction of this paradox, since they were taken as valid properties for any physical system."
   ]
  },
  {
   "cell_type": "markdown",
   "id": "b027236f",
   "metadata": {},
   "source": [
    "### <a name=\"definition_4_1\">Definition 4.1</a>\n",
    "\n",
    "- **Locality**: Given two systems, the result of any measurement made on one of them cannot influence the result of a measurement made on the other if said measurements are causally disconnected.\n",
    "\n",
    "- **Realism**: If it is possible to measure the attribute of a system without disturbing it, then it is said that the value obtained from this measurement has a physical reality independent of our observation."
   ]
  },
  {
   "cell_type": "markdown",
   "id": "f3693533",
   "metadata": {},
   "source": [
    "The concept of locality is basic in the development of Einstein's _Theory of Relativity_. Essentially what he argues is that if you have two systems and a measurement is made on the first and another measurement on the second, and they are causally disconnected, for example, that the systems are separated by a great distance and the measurements are made at almoest the same time, then the results of such measurements do not influence each other.\n",
    "\n",
    "On the other hand, let us bear in mind that the concept of realism is defined from the point of view of these authors who did not like quantum mechanics very much and for whom this concept of realism was something that was perceived as natural in their time. In other words, if it is possible to measure some attribute of a system without disturbing it, then the result obtained from that measurement is a \"real\" value that the system has, regardless of whether it has been measured."
   ]
  },
  {
   "cell_type": "markdown",
   "id": "358b9ad2",
   "metadata": {},
   "source": [
    "### <a name=\"remark_4_2\">Remark 4.2</a>\n",
    "\n",
    "In order to address the EPR paradox as closely as possible to how it was originally expressed, several physical concepts have to be used.\n",
    "\n",
    "<img src=\"../img/epr.jpg\" width=\"200\"/>\n",
    "\n",
    "An emission source of particles S is considered, which emits a pair of particles of spin $\\frac{1}{2}$, in the following state\n",
    "\n",
    "\\begin{equation*}\n",
    "    \\ket{\\psi^-} = \\frac{1}{\\sqrt{2}}(\\ket{01} - \\ket{10})\n",
    "\\end{equation*}\n",
    "\n",
    "Where the first qubit corresponds to the particle on the left and the second qubit corresponds to the particle on the right.\n",
    "\n",
    "Usually when we talk about this type of _Quantum Information_ or quantum entanglement problems, that is, when we have two subsystems $\\mathcal{A}$ and $\\mathcal{B}$, it is common to refer to they as the characters _Alice_ and _Bob_ instead of $\\mathcal{A}$ and $\\mathcal{B}$. In this case, one of the particles emitted by source $S$ travels towards Alice and the other towards Bob.\n",
    "\n",
    "With that said, suppose that Alice measures the observable $\\hat{\\sigma_z}$ and obtains the positive eigenvalue, that is, $\\sigma_z^{(A)} = +1$, then let's see what happens to the system immediately after this measurement.\n",
    "\n",
    "We know from the postulates of quantum mechanics that immediately after the measurement, the state $\\ket{\\psi^-}$ is projected to the subspace associated with the measured eigenvalue. In this way, the fact that Alice has measured $\\hat{\\sigma_z}$ to be in the eigenvalue $+1$ means that we are going to project the first qubit onto the eigenvector associated with the eigenvalue $+1$, that is, we are going to project onto the qubit $\\ket{0}$ and renormalize. In other words, Alice found that the first qubit was in the state $\\ket{0}$, that is\n",
    "\n",
    "\\begin{equation*}\n",
    "    \\sigma_z^{(A)} = +1 \\implies \\ket{\\psi^-} \\longrightarrow \\ket{01}\n",
    "\\end{equation*}\n",
    "\n",
    "At this point the state $\\ket{\\psi^-}$ has already collapsed to the state $\\ket{01}$, so if Bob now measures $\\hat{\\sigma_z}$ he will get the eigenvalue $-1$. That is, Bob will find the system in the state $\\ket{1}$, that is\n",
    "\n",
    "\\begin{equation*}\n",
    "    \\sigma_z^{(B)} = -1 \\implies \\ket{01} \\longrightarrow \\ket{1}\n",
    "\\end{equation*} \n",
    "\n",
    "Note that this mental exercise can be replicated in a completely classical way. Consider the following example, we send Alice and Bob a white and a black ball, but they do not know a priori which one they got. The moment Alice measures her ball and finds that she has the black ball, it is obvious that Bob got the white ball. It is this point that Einsten, Podolsky and Rosen first note.\n",
    "\n",
    "On the other hand, we are now going to construct the two eigenvectors of $\\hat{\\sigma_x}$. Analogously to the eigenvectors of $\\hat{\\sigma_z}$, let's call the one associated with the positive value $0$ and the one associated with the negative value $1$, but add the subscript $x$. That is\n",
    "\n",
    "\\begin{equation*}\n",
    "    \\begin{split}\n",
    "        \\ket{0_x} &= \\frac{1}{\\sqrt{2}}(\\ket{0} + \\ket{1}) \\enspace (\\text{ eigenvalue} +1) \\\\\n",
    "        \\ket{1_x} &= \\frac{1}{\\sqrt{2}}(\\ket{0} - \\ket{1}) \\enspace (\\text{ eigenvalue} -1)\n",
    "    \\end{split}\n",
    "\\end{equation*}\n",
    "\n",
    "are the eigenvectors of $\\hat{\\sigma_x}$. So if we want to rewrite the state $\\ket{\\psi^-}$ in terms of the eigenvectors of $\\hat{\\sigma_x}$ we will have\n",
    "\n",
    "\\begin{equation*}\n",
    "    \\ket{\\psi^-} = \\frac{1}{\\sqrt{2}}(\\ket{0_x1_x} - \\ket{1_x0_x})\n",
    "\\end{equation*}\n",
    "\n",
    "Now if Alice measures $\\hat{\\sigma_x}$ and gets the eigenvalue $+1$, then\n",
    "\n",
    "\\begin{equation*}\n",
    "    \\sigma_x^{(A)} = +1 \\implies \\ket{\\psi^-} \\longrightarrow \\ket{0_x1_x}\n",
    "\\end{equation*}\n",
    "\n",
    "Analogously to the previous case, if Bob now measures $\\hat{\\sigma_x}$ he will get $\\sigma_x^{(B)} = -1$ and therefore\n",
    "\n",
    "\\begin{equation*}\n",
    "    \\sigma_x^{(B)} = -1 \\implies \\ket{0_x1_x} \\longrightarrow \\ket{1_x}\n",
    "\\end{equation*}\n",
    "\n",
    "Note that as in the previous case, these results are still reproducible in classical physics, with the exception that in this case we would have balls of colors other than black and white, say red and green.\n",
    "\n",
    "The paradox lies in the fact that Alice's measurement determines Bob's result without disturbing him, since by the principle of **Locality**, Alice's measurement should not disturb Bob's result in his measurement and vice versa. This means that if Alice measures $\\hat{\\sigma_x}$ then she determines her own result and what Bob would get when measuring the same operator $\\hat{\\sigma_x}$, that is, she determines $\\sigma_x^{(A)}$ and $\\sigma_x^{(B)}$. On the other hand, if Bob measures $\\hat{\\sigma_z}$ in a causally disconnected way, he also determines his and Alice's result:$\\sigma_z^{(A)}$ and $\\sigma_z^{(B)}$.\n",
    "\n",
    "In this way, between them they can know $\\sigma_x^{(A)}$, $\\sigma_x^{(B)}$, $\\sigma_z^{(A)}$ and $\\sigma_z^{(B)}$, which are \"real\" values in the sense of **Realism**, that is, they have a physical interpretation. But quantum mechanics prohibits this from happening, since these observables do not commute, that is, $[\\hat{\\sigma_x}, \\hat{\\sigma_z}] \\neq 0 \\implies$ they cannot have _simultaneous reality_, which is a contradiction."
   ]
  },
  {
   "cell_type": "markdown",
   "id": "3bdc54fd",
   "metadata": {},
   "source": [
    "Let us now see why this is a contradiction. Suppose we have the state $\\ket{\\psi} = \\frac{1}{\\sqrt{2}}(\\ket{0} + \\ket{1})$ and when measuring $\\hat{\\sigma_z}$ we obtain the eigenvalue $+1$, that is, we find that the state is in the qubit $\\ket{0}$, then\n",
    "\n",
    "\\begin{equation*}\n",
    "    \\sigma_z = +1 \\implies \\ket{\\psi} \\longrightarrow \\ket{0}\n",
    "\\end{equation*}\n",
    "\n",
    "But if we express $\\ket{0}$ and $\\ket{1}$ in terms of the base of $\\hat{\\sigma_x}$ we have that\n",
    "\n",
    "\\begin{equation*}\n",
    "    \\ket{0} = \\frac{1}{\\sqrt{2}}(\\ket{0_x} + \\ket{1_x}) \\enspace \\ket{1} = \\frac{1}{\\sqrt{2}}(\\ket{0_x} - \\ket{1_x})\n",
    "\\end{equation*}\n",
    "\n",
    "therefore\n",
    "\n",
    "\\begin{equation*}\n",
    "    \\sigma_z = +1 \\implies \\ket{\\psi} \\longrightarrow \\ket{0} = \\frac{1}{\\sqrt{2}}(\\ket{0_x} + \\ket{1_x})\n",
    "\\end{equation*}\n",
    "\n",
    "From this expression, it is clear that if we now measure $\\hat{\\sigma_x}$ we can obtain $\\sigma_x = +1$ with probability $\\frac{1}{2}$ or $\\sigma_x = -1$ with probability $\\frac{1}{2}$. On the other hand, if we also express the original state $\\ket{\\psi}$ in terms of the same base of $\\hat{\\sigma_x}$ we have\n",
    "\n",
    "\\begin{equation*}\n",
    "    \\begin{split}\n",
    "        \\ket{\\psi} &= \\frac{1}{\\sqrt{2}}(\\ket{0} + \\ket{1}) \\\\\n",
    "        &= \\frac{1}{\\sqrt{2}}(\\frac{1}{\\sqrt{2}}(\\ket{0_x} + \\ket{1_x}) + \\frac{1}{\\sqrt{2}}(\\ket{0_x} - \\ket{1_x})) \\\\\n",
    "        &= \\frac{1}{2}(\\ket{0_x} + \\ket{1_x} + \\ket{0_x} - \\ket{1_x}) = \\ket{0_x}\n",
    "    \\end{split}\n",
    "\\end{equation*}\n",
    "\n",
    "That is, if we had measured $\\hat{\\sigma_x}$ first, we would have obtained $\\sigma_x = +1$ with a probability of $100\\%$. And precisely the problem lies in this fact, when we carry out one measurement after another and the operators that we are measuring do not commute, then the second measurement that is carried out will no longer necessarily depend on the original state, but on the state after having been projected to the subspace associated to the first measurement.\n",
    "\n",
    "In this specific case, if we had measured $\\hat{\\sigma_x}$ first, what we would have found is that the original state had a $\\sigma_x = +1$ with complete certainty, but since we decided to measure $\\hat{\\sigma_z}$, when measuring $\\hat{\\sigma_x}$ we can obtain any of the values $+1 $ or $-1$ with a $50\\%$ probability. This is the reason why these operators $\\hat{\\sigma_x}$ and $\\hat{\\sigma_z}$ cannot have a simultaneous reality, that is, quantum mechanics prevents us from simultaneously knowing the value of $\\sigma_x$ and $\\sigma_z$ of a particle, because when measuring one, the measurement of the other is no longer valid, and vice versa.\n",
    "\n",
    "Therefore, the conclusion drawn from the EPR article is that assuming **Locality, Realism and Quantum Mechanics** at the same time, leads to a contradiction. Obviously EPR's argument is that since locality and realism are natural properties of any physical system, what must be wrong is quantum mechanics. What was later concluded is that the concept of locality had to be redefined to make it compatible with quantum mechanics, and the concept of realism ended up being put aside thanks to Bell's inequalities.\n",
    "\n",
    "We must emphasize that the essence of what we have just seen in the EPR paradox arises thanks to the state we chose $\\ket{\\psi^-}  = \\frac{1}{\\sqrt{2}}(\\ket{01} - \\ket{10})$, and the peculiarity of this state is that it is an entangled state. The background of quantum entanglement is that there are states that cannot be factored as a tensor product of two vectors, but rather that the system is in a joint state that cannot be separated in each of its subsystems."
   ]
  }
 ],
 "metadata": {
  "kernelspec": {
   "display_name": "Python 3",
   "language": "python",
   "name": "python3"
  },
  "language_info": {
   "codemirror_mode": {
    "name": "ipython",
    "version": 3
   },
   "file_extension": ".py",
   "mimetype": "text/x-python",
   "name": "python",
   "nbconvert_exporter": "python",
   "pygments_lexer": "ipython3",
   "version": "3.8.8"
  }
 },
 "nbformat": 4,
 "nbformat_minor": 5
}
