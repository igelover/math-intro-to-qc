{
 "cells": [
  {
   "cell_type": "markdown",
   "id": "6dba718d",
   "metadata": {},
   "source": [
    "<a href=\"https://qworld.net\" target=\"_blank\" align=\"left\"><img src=\"../qworld/images/header.jpg\"  align=\"left\"></a>\n",
    "$$\n",
    "\\newcommand{\\set}[1]{\\left\\{#1\\right\\}}\n",
    "\\newcommand{\\abs}[1]{\\left\\lvert#1\\right\\rvert}\n",
    "\\newcommand{\\norm}[1]{\\left\\lVert#1\\right\\rVert}\n",
    "\\newcommand{\\inner}[2]{\\left\\langle#1,#2\\right\\rangle}\n",
    "\\newcommand{\\bra}[1]{\\left\\langle#1\\right|}\n",
    "\\newcommand{\\ket}[1]{\\left|#1\\right\\rangle}\n",
    "\\newcommand{\\braket}[2]{\\left\\langle#1|#2\\right\\rangle}\n",
    "\\newcommand{\\ketbra}[2]{\\left|#1\\right\\rangle\\left\\langle#2\\right|}\n",
    "\\newcommand{\\angleset}[1]{\\left\\langle#1\\right\\rangle}\n",
    "$$"
   ]
  },
  {
   "cell_type": "markdown",
   "id": "27ff6a6e",
   "metadata": {},
   "source": [
    "# Quantum Entanglement\n",
    "\n",
    "_prepared by Israel Gelover_"
   ]
  },
  {
   "cell_type": "markdown",
   "id": "c7feb97d",
   "metadata": {},
   "source": [
    "### Task 1.\n",
    "\n",
    "Consider the state $\\ket{\\psi} = \\frac{1}{\\sqrt{2}}(\\ket{00} + \\ket{11})$, show that there are no states $\\ket{\\alpha}$ and $\\ket{\\beta}$ such that $\\ket{\\alpha} \\otimes \\ket{\\beta} = \\ket{\\psi}$"
   ]
  },
  {
   "cell_type": "markdown",
   "id": "fbc93773",
   "metadata": {},
   "source": [
    "### <a name=\"task_1\">Solution</a>\n",
    "\n",
    "Let us suppose that there exist states $\\ket{\\alpha}$ and $\\ket{\\beta}$ such that $\\ket{\\alpha} \\otimes \\ket{\\beta} = \\ket{\\psi}$, then\n",
    "\n",
    "\\begin{equation*}\n",
    "    \\ket{\\alpha} \\otimes \\ket{\\beta} = \\begin{pmatrix} a \\\\ b \\end{pmatrix} \\otimes \\begin{pmatrix} c \\\\ d \\end{pmatrix} = \\begin{pmatrix} ac \\\\ ad \\\\ bc \\\\ bd \\end{pmatrix} = \\begin{pmatrix} \\frac{1}{\\sqrt{2}} \\\\ 0 \\\\ 0 \\\\ \\frac{1}{\\sqrt{2}} \\end{pmatrix} = \\ket{\\psi}\n",
    "\\end{equation*}\n",
    "$\\implies$\n",
    "\\begin{equation*}\n",
    "    ad = 0 \\land bc = 0, ac = \\frac{1}{\\sqrt{2}} \\land bd = \\frac{1}{\\sqrt{2}}\n",
    "\\end{equation*}\n",
    "$\\implies$\n",
    "\\begin{equation*}\n",
    "    ad = 0 \\land bc = 0, (ac)(db) = (ad)(bc) = \\frac{1}{2}\n",
    "\\end{equation*}\n",
    "\n",
    "which is a contradiction, so we can conclude that the state $\\ket{\\psi}$ is an entangled state."
   ]
  }
 ],
 "metadata": {
  "kernelspec": {
   "display_name": "Python 3",
   "language": "python",
   "name": "python3"
  },
  "language_info": {
   "codemirror_mode": {
    "name": "ipython",
    "version": 3
   },
   "file_extension": ".py",
   "mimetype": "text/x-python",
   "name": "python",
   "nbconvert_exporter": "python",
   "pygments_lexer": "ipython3",
   "version": "3.8.10"
  }
 },
 "nbformat": 4,
 "nbformat_minor": 5
}
