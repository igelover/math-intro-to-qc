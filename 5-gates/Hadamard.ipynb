{
 "cells": [
  {
   "cell_type": "markdown",
   "id": "6dba718d",
   "metadata": {},
   "source": [
    "<a href=\"https://qworld.net\" target=\"_blank\" align=\"left\"><img src=\"../qworld/images/header.jpg\"  align=\"left\"></a>\n",
    "$$\n",
    "\\newcommand{\\set}[1]{\\left\\{#1\\right\\}}\n",
    "\\newcommand{\\abs}[1]{\\left\\lvert#1\\right\\rvert}\n",
    "\\newcommand{\\norm}[1]{\\left\\lVert#1\\right\\rVert}\n",
    "\\newcommand{\\inner}[2]{\\left\\langle#1,#2\\right\\rangle}\n",
    "\\newcommand{\\bra}[1]{\\left\\langle#1\\right|}\n",
    "\\newcommand{\\ket}[1]{\\left|#1\\right\\rangle}\n",
    "\\newcommand{\\braket}[2]{\\left\\langle#1|#2\\right\\rangle}\n",
    "\\newcommand{\\ketbra}[2]{\\left|#1\\right\\rangle\\left\\langle#2\\right|}\n",
    "\\newcommand{\\angleset}[1]{\\left\\langle#1\\right\\rangle}\n",
    "\\newcommand{\\expected}[1]{\\left\\langle#1\\right\\rangle}\n",
    "\\newcommand{\\dv}[2]{\\frac{d#1}{d#2}}\n",
    "\\newcommand{\\real}[0]{\\mathfrak{Re}}\n",
    "$$"
   ]
  },
  {
   "cell_type": "markdown",
   "id": "27ff6a6e",
   "metadata": {},
   "source": [
    "# Hadamard Gate\n",
    "\n",
    "_prepared by Israel Gelover_"
   ]
  },
  {
   "cell_type": "markdown",
   "id": "a0d1e8b7",
   "metadata": {},
   "source": [
    "### <a name=\"definition_5_3\">Remark 5.3</a> Hadamard Gate\n",
    "\n",
    "The _Hadamard Gate_ is defined as the unitary operator\n",
    "\n",
    "\\begin{equation*}\n",
    "    H:\\mathbb{B} \\to \\mathbb{B}\n",
    "\\end{equation*}\n",
    "\n",
    "such that\n",
    "\n",
    "\\begin{equation*}\n",
    "    \\begin{split}\n",
    "        H\\ket{0} &= \\frac{1}{\\sqrt{2}}(\\ket{0} + \\ket{1}) = \\ket{+}\\\\\n",
    "        H\\ket{1} &= \\frac{1}{\\sqrt{2}}(\\ket{0} - \\ket{1}) = \\ket{-}\\\\\n",
    "    \\end{split}\n",
    "\\end{equation*}\n",
    "\n",
    "That is, the eigenvector associated with the positive (or negative) eigenvalue of $\\hat{\\sigma_z}$ is being transformed into the eigenvector associated with the positive (or negative) eigenvalue of $\\hat{\\sigma_x}$. These states are commonly known as $\\ket{+}$ and $\\ket{-}$ respectively. We can think of the Hadamard gate as a base change operator between $\\hat{\\sigma_z}$ and $\\hat{\\sigma_x}$.\n",
    "\n",
    "We can also view it in its matrix representation\n",
    "\n",
    "\\begin{equation*}\n",
    "    H = \\frac{1}{\\sqrt{2}}\\begin{pmatrix}1 & 1 \\\\ 1 & -1\\end{pmatrix}\n",
    "\\end{equation*}\n"
   ]
  },
  {
   "cell_type": "markdown",
   "id": "bdba4721",
   "metadata": {},
   "source": [
    "### <a name=\"proposition_5_4\">Proposition 5.4</a>\n",
    "\n",
    "\\begin{equation*}\n",
    "    \\underbrace{H\\ket{0} \\otimes H\\ket{0} \\otimes \\cdots \\otimes H\\ket{0}}_\\text{$n$ times} = \\frac{1}{\\sqrt{2^n}}\\sum_{j=0}^{2^n-1}\\ket{j}\n",
    "\\end{equation*}\n",
    "\n",
    "Where $\\ket{j}$ denotes the integer $j$ in its binary representation with a length of $n$ bits. For example, with $n=4$, $\\ket{9} = \\ket{1001}$.\n",
    "\n",
    "**Proof:**\n",
    "\n",
    "Note that for $n=1$ we simply have the definition of the $H$ gate:\n",
    "\n",
    "\\begin{equation*}\n",
    "    H\\ket{0} = \\frac{1}{\\sqrt{2^1}}(\\ket{0} + \\ket{1})\n",
    "\\end{equation*}\n",
    "\n",
    "So, let's take the case $n=2$ as the induction base for the proof:\n",
    "\n",
    "\\begin{equation*}\n",
    "    \\begin{split}\n",
    "        H\\ket{0} \\otimes H\\ket{0} &= \\frac{1}{\\sqrt{2}}(\\ket{0} + \\ket{1}) \\otimes \\frac{1}{\\sqrt{2}}(\\ket{0} + \\ket{1}) \\\\\n",
    "        &= \\frac{1}{\\sqrt{2^2}}\\left[\\ket{0}\\otimes(\\ket{0} + \\ket{1}) + \\ket{1}\\otimes(\\ket{0} + \\ket{1})\\right] \\\\\n",
    "        &= \\frac{1}{\\sqrt{2^2}}\\left[\\ket{0} \\otimes \\sum_{j=0}^1\\ket{j} + \\ket{1} \\otimes \\sum_{j=0}^1\\ket{j}\\right] \\\\\n",
    "        &= \\frac{1}{\\sqrt{2^2}}\\left[\\underbrace{\\ket{00}}_0 + \\underbrace{\\ket{01}}_1 + \\underbrace{\\ket{10}}_2 + \\underbrace{\\ket{11}}_3\\right] \\\\\n",
    "        &= \\frac{1}{\\sqrt{2^2}}\\sum_{j=0}^{2^2-1}\\ket{j}\n",
    "    \\end{split}\n",
    "\\end{equation*}\n",
    "\n",
    "Now suppose that the result is satisfied for $n=k$, that is\n",
    "\n",
    "\\begin{equation*}\n",
    "    \\underbrace{H\\ket{0} \\otimes H\\ket{0} \\otimes \\cdots \\otimes H\\ket{0}}_\\text{$k$ times} = \\frac{1}{\\sqrt{2^k}}\\sum_{j=0}^{2^k-1}\\ket{j}\n",
    "\\end{equation*}\n",
    "\n",
    "Let's prove that it is also true for $n=k+1$\n",
    "\n",
    "\\begin{equation*}\n",
    "    \\begin{split}\n",
    "        \\underbrace{H\\ket{0} \\otimes H\\ket{0} \\otimes \\cdots \\otimes H\\ket{0}}_\\text{$k+1$ times} &= \\frac{1}{\\sqrt{2}}(\\ket{0} + \\ket{1}) \\otimes \\frac{1}{\\sqrt{2^k}}\\sum_{j=0}^{2^k-1}\\ket{j} \\\\\n",
    "        &= \\frac{1}{\\sqrt{2}}\\frac{1}{\\sqrt{2^k}}(\\ket{0} + \\ket{1}) \\otimes \\sum_{j=0}^{2^k-1}\\ket{j} \\\\\n",
    "        &= \\frac{1}{\\sqrt{2^{k+1}}}\\left[\\ket{0}\\otimes\\sum_{j=0}^{2^k-1}\\ket{j} + \\ket{1}\\otimes\\sum_{j=0}^{2^k-1}\\ket{j}\\right] \\\\\n",
    "        &= \\frac{1}{\\sqrt{2^{k+1}}}\\left[\\sum_{j=0}^{2^k-1}\\ket{0j} + \\sum_{j=0}^{2^k-1}\\ket{1j}\\right] \\\\\n",
    "        &= \\frac{1}{\\sqrt{2^{k+1}}}\\sum_{j=0}^{2^{k+1}-1}\\ket{j}\n",
    "    \\end{split}\n",
    "\\end{equation*}\n",
    "\n",
    "Therefore\n",
    "\n",
    "\\begin{equation*}\n",
    "    \\underbrace{H\\ket{0} \\otimes H\\ket{0} \\otimes \\cdots \\otimes H\\ket{0}}_\\text{$n$ times} = \\frac{1}{\\sqrt{2^n}}\\sum_{j=0}^{2^n-1}\\ket{j}\n",
    "\\end{equation*}"
   ]
  },
  {
   "cell_type": "markdown",
   "id": "3c9b5a43",
   "metadata": {},
   "source": [
    "The importance of this result, as we already mentioned, is that one of the advantages of quantum computing is the ability to work with a large number of integers simultaneously in a quantum register of $n$ qubits. The easiest way to do this, since quantum computers initialize all qubits in the $\\ket{0}$ state, is to apply the Hadamard gate to each of the qubits and thus obtain a superposition of all the integers that we can represent with $n$ qubits.\n",
    "\n",
    "That is, one of the most direct applications of the Hadamard gate is the possibility of creating from $n$ qubits in state $\\ket{0}$, a superposition of all the $2^n$ integers that can be written in binary representation of length $n$."
   ]
  }
 ],
 "metadata": {
  "kernelspec": {
   "display_name": "Python 3",
   "language": "python",
   "name": "python3"
  },
  "language_info": {
   "codemirror_mode": {
    "name": "ipython",
    "version": 3
   },
   "file_extension": ".py",
   "mimetype": "text/x-python",
   "name": "python",
   "nbconvert_exporter": "python",
   "pygments_lexer": "ipython3",
   "version": "3.8.8"
  }
 },
 "nbformat": 4,
 "nbformat_minor": 5
}
