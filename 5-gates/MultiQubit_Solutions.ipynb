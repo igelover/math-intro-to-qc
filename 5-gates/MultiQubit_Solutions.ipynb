{
 "cells": [
  {
   "cell_type": "markdown",
   "id": "6dba718d",
   "metadata": {},
   "source": [
    "<a href=\"https://qworld.net\" target=\"_blank\" align=\"left\"><img src=\"../qworld/images/header.jpg\"  align=\"left\"></a>\n",
    "$$\n",
    "\\newcommand{\\set}[1]{\\left\\{#1\\right\\}}\n",
    "\\newcommand{\\abs}[1]{\\left\\lvert#1\\right\\rvert}\n",
    "\\newcommand{\\norm}[1]{\\left\\lVert#1\\right\\rVert}\n",
    "\\newcommand{\\inner}[2]{\\left\\langle#1,#2\\right\\rangle}\n",
    "\\newcommand{\\bra}[1]{\\left\\langle#1\\right|}\n",
    "\\newcommand{\\ket}[1]{\\left|#1\\right\\rangle}\n",
    "\\newcommand{\\braket}[2]{\\left\\langle#1|#2\\right\\rangle}\n",
    "\\newcommand{\\ketbra}[2]{\\left|#1\\right\\rangle\\left\\langle#2\\right|}\n",
    "\\newcommand{\\angleset}[1]{\\left\\langle#1\\right\\rangle}\n",
    "\\newcommand{\\expected}[1]{\\left\\langle#1\\right\\rangle}\n",
    "\\newcommand{\\dv}[2]{\\frac{d#1}{d#2}}\n",
    "\\newcommand{\\real}[0]{\\mathfrak{Re}}\n",
    "$$"
   ]
  },
  {
   "cell_type": "markdown",
   "id": "27ff6a6e",
   "metadata": {},
   "source": [
    "# Multi-Qubit Gates\n",
    "\n",
    "_prepared by Israel Gelover_"
   ]
  },
  {
   "cell_type": "markdown",
   "id": "0c3835c2",
   "metadata": {},
   "source": [
    "### Task 1.\n",
    "\n",
    "Let $V^2 = U$, verify that the following circuits are equivalent:\n",
    "\n",
    "<img src=\"../img/c2-u.jpg\" width=\"475px\" />"
   ]
  },
  {
   "cell_type": "markdown",
   "id": "13b587db",
   "metadata": {},
   "source": [
    "### <a name=\"task_1\">Solution</a>\n",
    "\n",
    "By definition, the gate C$^2$-U of the left circuit acts as follows with the elements of the computational base\n",
    "\n",
    "\\begin{equation*}\n",
    "    \\begin{split}\n",
    "        \\ket{00} \\otimes \\ket{x} &\\to \\ket{00} \\otimes \\ket{x} \\\\\n",
    "        \\ket{01} \\otimes \\ket{x} &\\to \\ket{01} \\otimes \\ket{x} \\\\\n",
    "        \\ket{10} \\otimes \\ket{x} &\\to \\ket{10} \\otimes \\ket{x} \\\\\n",
    "        \\ket{11} \\otimes \\ket{x} &\\to \\ket{11} \\otimes U\\ket{x}\n",
    "    \\end{split}\n",
    "\\end{equation*}\n",
    "\n",
    "On the other hand, the 5 gates of the circuit on the right side act as follows\n",
    "\n",
    "\\begin{equation*}\n",
    "    \\begin{alignedat}{5}\n",
    "        \\ket{00} \\otimes \\ket{x} &\\to \\ket{00} \\otimes \\ket{x} &&\\to \\ket{00} \\otimes \\ket{x} &&\\to \\ket{00} \\otimes \\ket{x} &&\\to \\ket{00} \\otimes \\ket{x} &&\\to \\ket{00} \\otimes \\ket{x} \\\\\n",
    "        \\ket{01} \\otimes \\ket{x} &\\to \\ket{01} \\otimes V\\ket{x} &&\\to \\ket{01} \\otimes V\\ket{x} &&\\to \\ket{01} \\otimes V^\\dagger V\\ket{x} &&\\to \\ket{01} \\otimes \\ket{x} &&\\to \\ket{01} \\otimes \\ket{x} \\\\\n",
    "        \\ket{10} \\otimes \\ket{x} &\\to \\ket{10} \\otimes \\ket{x} &&\\to \\ket{11} \\otimes \\ket{x} &&\\to \\ket{11} \\otimes V^\\dagger\\ket{x} &&\\to \\ket{10} \\otimes V^\\dagger\\ket{x} &&\\to \\ket{10} \\otimes \\ket{x} \\\\\n",
    "        \\ket{11} \\otimes \\ket{x} &\\to \\ket{11} \\otimes V\\ket{x} &&\\to \\ket{10} \\otimes V\\ket{x} &&\\to \\ket{10} \\otimes V\\ket{x} &&\\to \\ket{11} \\otimes V\\ket{x} &&\\to \\ket{11} \\otimes V^2\\ket{x}\n",
    "    \\end{alignedat}\n",
    "\\end{equation*}\n",
    "\n",
    "Therefore the two circuits are equivalent."
   ]
  },
  {
   "cell_type": "markdown",
   "id": "d5383db4",
   "metadata": {},
   "source": [
    "### Task 2.\n",
    "\n",
    "Verify that the following circuit implements the C$^2$-U gate.\n",
    "\n",
    "<img src=\"../img/c2-u_1.jpg\" width=\"221px\" />"
   ]
  },
  {
   "cell_type": "markdown",
   "id": "2c240eb2",
   "metadata": {},
   "source": [
    "### <a name=\"task_2\">Solution</a>\n",
    "\n",
    "In the previous task we saw how the gate C$^2$-U acts with the elements of the computational base, let's compare the behavior of this circuit, considering that we have 3 quibits due to the auxiliary qubit, but in reality we will only be comparing the qubits $\\ket{q_0}$ and $\\ket{q_1}$.\n",
    "\n",
    "\\begin{equation*}\n",
    "    \\begin{alignedat}{3}\n",
    "        \\ket{000} \\otimes \\ket{x} &\\to \\ket{000} \\otimes \\ket{x} &&\\to \\ket{000} \\otimes \\ket{x} &&\\to \\ket{000} \\otimes \\ket{x} \\\\\n",
    "        \\ket{010} \\otimes \\ket{x} &\\to \\ket{010} \\otimes \\ket{x} &&\\to \\ket{010} \\otimes \\ket{x} &&\\to \\ket{010} \\otimes \\ket{x} \\\\\n",
    "        \\ket{100} \\otimes \\ket{x} &\\to \\ket{100} \\otimes \\ket{x} &&\\to \\ket{100} \\otimes \\ket{x} &&\\to \\ket{100} \\otimes \\ket{x} \\\\\n",
    "        \\ket{110} \\otimes \\ket{x} &\\to \\ket{111} \\otimes \\ket{x} &&\\to \\ket{111} \\otimes U\\ket{x} &&\\to \\ket{110} \\otimes U\\ket{x}\n",
    "    \\end{alignedat}\n",
    "\\end{equation*}\n",
    "\n",
    "Which shows that they are equivalent circuits."
   ]
  }
 ],
 "metadata": {
  "kernelspec": {
   "display_name": "Python 3",
   "language": "python",
   "name": "python3"
  },
  "language_info": {
   "codemirror_mode": {
    "name": "ipython",
    "version": 3
   },
   "file_extension": ".py",
   "mimetype": "text/x-python",
   "name": "python",
   "nbconvert_exporter": "python",
   "pygments_lexer": "ipython3",
   "version": "3.8.10"
  }
 },
 "nbformat": 4,
 "nbformat_minor": 5
}
