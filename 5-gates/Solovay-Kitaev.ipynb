{
 "cells": [
  {
   "cell_type": "markdown",
   "id": "6dba718d",
   "metadata": {},
   "source": [
    "<a href=\"https://qworld.net\" target=\"_blank\" align=\"left\"><img src=\"../qworld/images/header.jpg\"  align=\"left\"></a>\n",
    "$$\n",
    "\\newcommand{\\set}[1]{\\left\\{#1\\right\\}}\n",
    "\\newcommand{\\abs}[1]{\\left\\lvert#1\\right\\rvert}\n",
    "\\newcommand{\\norm}[1]{\\left\\lVert#1\\right\\rVert}\n",
    "\\newcommand{\\inner}[2]{\\left\\langle#1,#2\\right\\rangle}\n",
    "\\newcommand{\\bra}[1]{\\left\\langle#1\\right|}\n",
    "\\newcommand{\\ket}[1]{\\left|#1\\right\\rangle}\n",
    "\\newcommand{\\braket}[2]{\\left\\langle#1|#2\\right\\rangle}\n",
    "\\newcommand{\\ketbra}[2]{\\left|#1\\right\\rangle\\left\\langle#2\\right|}\n",
    "\\newcommand{\\angleset}[1]{\\left\\langle#1\\right\\rangle}\n",
    "\\newcommand{\\expected}[1]{\\left\\langle#1\\right\\rangle}\n",
    "\\newcommand{\\dv}[2]{\\frac{d#1}{d#2}}\n",
    "\\newcommand{\\real}[0]{\\mathfrak{Re}}\n",
    "$$"
   ]
  },
  {
   "cell_type": "markdown",
   "id": "27ff6a6e",
   "metadata": {},
   "source": [
    "# Solovay-Kitaev Theorem\n",
    "\n",
    "_prepared by Israel Gelover_"
   ]
  },
  {
   "cell_type": "markdown",
   "id": "0e1b0536",
   "metadata": {},
   "source": [
    "The results we saw earlier are a motivation for the following theorem."
   ]
  },
  {
   "cell_type": "markdown",
   "id": "b027236f",
   "metadata": {},
   "source": [
    "### <a name=\"theorem_5_15\">Theorem 5.15</a>\n",
    "\n",
    "Any quantum logic gate (no matter how many qubits) can be implemented with gates $H, R_z$ and C-Not."
   ]
  },
  {
   "cell_type": "markdown",
   "id": "277fa2de",
   "metadata": {},
   "source": [
    "This leads us to ask the following question: Is this result completely analogous to its classical counterpart that we reviewed in <a href=\"../1-intro/LogicGates.ipynb#theorem_1_7\">Theorem 1.7</a>?\n",
    "\n",
    "The answer unfortunately is no. And this is because there are actually an infinite number of gates $R_z$, as many as real numbers, therefore it is not a completely equivalent result, but this in turn leads us to wonder if there exists a computationally universal finite set.\n",
    "\n",
    "Let's remember that the purpose of having a computationally universal (finite) set is to build only those gates and to be able to implement all the other gates from this universal set, and for practicality that's something that we clearly want to have in quantum computing. So since this theorem is not completely analogous to its classical counterpart, let's see how we can identify a computationally universal set."
   ]
  },
  {
   "cell_type": "markdown",
   "id": "cda9fd89",
   "metadata": {},
   "source": [
    "### <a name=\"definition_5_16\">Definition 5.16</a>\n",
    "\n",
    "A finite set $S$ of quantum logic gates is computationally universal if any gate can be (arbitrarily) approximated by a finite sequence of elements of $S$."
   ]
  },
  {
   "cell_type": "markdown",
   "id": "64d3a0f5",
   "metadata": {},
   "source": [
    "With this definition, the answer to the question we have just asked is given by the Solovay-Kitaev Theorem."
   ]
  },
  {
   "cell_type": "markdown",
   "id": "860357d7",
   "metadata": {},
   "source": [
    "### <a name=\"theorem_5_17\">Theorem 5.17</a> Solovay-Kitaev Theorem\n",
    "\n",
    "The set $S = \\set{H, R_z\\left(\\frac{\\pi}{4}\\right), R_z\\left(\\frac{\\pi}{2}\\right), \\mbox{C-Not}}$ it is computationally universal."
   ]
  },
  {
   "cell_type": "markdown",
   "id": "7001f1b4",
   "metadata": {},
   "source": [
    "Unfortunately the mathematics required to prove this theorem are well beyond the scope of this work, so we will not give a proof.\n",
    "\n",
    "However, we would like to highlight the importance of this result, both from a theoretical and practical point of view. From a practical point of view, it gives us the advantage we were looking for, building a finite set of gates and having the possibility of implementing any other gates from this set. But perhaps its greatest importance is from a theoretical point of view, since it is telling us that we can approximate a unitary matrix of any dimension using only finite sequences of products of these four matrices, which is not a trivial result."
   ]
  }
 ],
 "metadata": {
  "kernelspec": {
   "display_name": "Python 3",
   "language": "python",
   "name": "python3"
  },
  "language_info": {
   "codemirror_mode": {
    "name": "ipython",
    "version": 3
   },
   "file_extension": ".py",
   "mimetype": "text/x-python",
   "name": "python",
   "nbconvert_exporter": "python",
   "pygments_lexer": "ipython3",
   "version": "3.8.8"
  }
 },
 "nbformat": 4,
 "nbformat_minor": 5
}
