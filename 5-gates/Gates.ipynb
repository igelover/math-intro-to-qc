{
 "cells": [
  {
   "cell_type": "markdown",
   "id": "6dba718d",
   "metadata": {},
   "source": [
    "<a href=\"https://qworld.net\" target=\"_blank\" align=\"left\"><img src=\"../qworld/images/header.jpg\"  align=\"left\"></a>\n",
    "$$\n",
    "\\newcommand{\\set}[1]{\\left\\{#1\\right\\}}\n",
    "\\newcommand{\\abs}[1]{\\left\\lvert#1\\right\\rvert}\n",
    "\\newcommand{\\norm}[1]{\\left\\lVert#1\\right\\rVert}\n",
    "\\newcommand{\\inner}[2]{\\left\\langle#1,#2\\right\\rangle}\n",
    "\\newcommand{\\bra}[1]{\\left\\langle#1\\right|}\n",
    "\\newcommand{\\ket}[1]{\\left|#1\\right\\rangle}\n",
    "\\newcommand{\\braket}[2]{\\left\\langle#1|#2\\right\\rangle}\n",
    "\\newcommand{\\ketbra}[2]{\\left|#1\\right\\rangle\\left\\langle#2\\right|}\n",
    "\\newcommand{\\angleset}[1]{\\left\\langle#1\\right\\rangle}\n",
    "\\newcommand{\\expected}[1]{\\left\\langle#1\\right\\rangle}\n",
    "\\newcommand{\\dv}[2]{\\frac{d#1}{d#2}}\n",
    "\\newcommand{\\real}[0]{\\mathfrak{Re}}\n",
    "$$"
   ]
  },
  {
   "cell_type": "markdown",
   "id": "27ff6a6e",
   "metadata": {},
   "source": [
    "# Quantum Logic Gates\n",
    "\n",
    "_prepared by Israel Gelover_"
   ]
  },
  {
   "cell_type": "markdown",
   "id": "b027236f",
   "metadata": {},
   "source": [
    "### <a name=\"remark_5_1\">Remark 5.1</a> Classical Registry and Quantum Registry\n",
    "\n",
    "**1.** An $n$ bit register is an element of the set $\\set{0,1}^n$ and can be completely described by an integer in binary representation. That is, if we think of it in terms of memory, a classical $n$ bit register can store a single integer. For example: $011 \\longrightarrow 3$.\n",
    "\n",
    "**2.** An $n$ qubits register is an element of $\\mathbb{B}^{\\otimes n}$. As we saw previously, $\\mathbb{B}^{\\otimes n}$ is a vector space and its elements are linear combinations of elements of its base; these linear combinations are known as superpositions. In this case we can have an overlap of $2^n$ elements, each of which is completely described by an integer in binary representation. That is, if we think of it in terms of memory, an $n$ qubits register can \"store\" up to $2^n$ integers. It is important to note that this amount grows exponentially as $n$ grows and this is precisely one of the advantages that quantum computing offers over classical computing. Note that we say \"store\" (in quotes) since at the time of making a measurement, what we are going to obtain is only one of those $2^n$ numbers, but the advantage is that we can work with all of them simultaneously before taking a measurement. For example:\n",
    "\n",
    "\\begin{equation*}\n",
    "    \\ket{\\psi} = \\frac{1}{\\sqrt{8}}(\\underbrace{\\ket{000}}_\\text{0} + \\underbrace{\\ket{001}}_\\text{1} + \\underbrace{\\ket{010}}_\\text{2} + \\underbrace{\\ket{011}}_\\text{3} + \\underbrace{\\ket{100}}_\\text{4} + \\underbrace{\\ket{101}}_\\text{5} + \\underbrace{\\ket{110}}_\\text{6} + \\underbrace{\\ket{111}}_\\text{7})\n",
    "\\end{equation*}\n"
   ]
  },
  {
   "cell_type": "markdown",
   "id": "a40aa47e",
   "metadata": {},
   "source": [
    "It is due to this possibility of working with states in superposition, that quantum computing can offer an improvement in certain algorithms for which a certain number of calculations are required in a classical computer and that can be carried out with a smaller number of them in a quantum way. For example, if we have an input of length $n$ and in a classical computer it takes a time that depends exponentially on $n$, there is a possibility that a quantum algorithm reduces the computation time and that it only depends linearly on $n$ , which represents the maximum possible advantage. The term commonly used is _Quantum Supremacy_, that is, a quantum computer would achieve this supremacy when it exponentially improves the time it takes to solve a problem relative to the best classical computer that solves the same problem. Both Google and a team of Chinese scientists have declared to have achieved quantum supremacy, so in one way or another, we already have examples of calculations that can be improved exponentially with respect to classical computation."
   ]
  },
  {
   "cell_type": "markdown",
   "id": "97aec988",
   "metadata": {},
   "source": [
    "### Quantum Logic Gates\n",
    "\n",
    "Let us recall from <a href=\"../1-intro/LogicGates.ipynb#definition_1_4\">Definition 1.4</a> that a classical logic gate is a function\n",
    "\n",
    "$$f:\\set{0,1}^n \\to \\set{0,1}^m \\enspace n,m \\in \\mathbb{N}$$\n",
    "\n",
    "We define a quantum logic gate analogously but with a couple of differences."
   ]
  },
  {
   "cell_type": "markdown",
   "id": "814fcb85",
   "metadata": {},
   "source": [
    "### <a name=\"definition_5_2\">Definition 5.2</a> Quantum Gate\n",
    "\n",
    "A _Quantum Logic Gate_ of $n$ qubits is a unitary operator\n",
    "\n",
    "\\begin{equation*}\n",
    "    U:\\mathbb{B}^{\\otimes n} \\to \\mathbb{B}^{\\otimes n}\n",
    "\\end{equation*}"
   ]
  },
  {
   "cell_type": "markdown",
   "id": "5d057e3e",
   "metadata": {},
   "source": [
    "The first thing we notice is that the size of the output must be the same as the input, this is because the unit operators are square matrices and therefore the result of applying them is a vector of the same dimension.\n",
    "\n",
    "Why must it be a unitary operator?\n",
    "\n",
    "1. Let us remember that the unit operators do not modify the length of the vectors and precisely for this reason they model the time evolution of a state. In a quantum computer, what a quantum algorithm would be doing is evolving a certain state in time, and we know that in quantum mechanics (in closed systems) this temporal evolution is modeled by a unitary operator, which we describe in <a href=\"../3-qm/TimeEvolution.ipynb#remark_3_4\">Remark 3.4</a>.\n",
    "\n",
    "2. The fact of having unitary operators guarantees the existence of inverse operators and therefore, for any quantum algorithm we can have an inverse algorithm. This is known in computing as _Reversibility_, and the advantage of having reversible operations is that it guarantees no heat dissipation, as described in the _Landauer's Principle_. In essence, this connection arose during the first half of the 20th century, between Information Theory and Thermodynamics, later between Information Theory and Statistical Physics, and finally between Information Theory and Quantum Mechanics, culminating in what is now known as _Quantum Information Theory_."
   ]
  }
 ],
 "metadata": {
  "kernelspec": {
   "display_name": "Python 3",
   "language": "python",
   "name": "python3"
  },
  "language_info": {
   "codemirror_mode": {
    "name": "ipython",
    "version": 3
   },
   "file_extension": ".py",
   "mimetype": "text/x-python",
   "name": "python",
   "nbconvert_exporter": "python",
   "pygments_lexer": "ipython3",
   "version": "3.8.8"
  }
 },
 "nbformat": 4,
 "nbformat_minor": 5
}
