{
 "cells": [
  {
   "cell_type": "markdown",
   "id": "f68ee436",
   "metadata": {},
   "source": [
    "<table width=\"100%\"><tr style=\"background-color:white;\">\n",
    "    <td style=\"text-align:left;padding:0px;width:142px'\">\n",
    "        <a href=\"https://qworld.net\" target=\"_blank\">\n",
    "            <img src=\"qworld/images/QWorld.png\"></a></td>\n",
    "    <td width=\"*\">&nbsp;&nbsp;&nbsp;&nbsp;&nbsp;&nbsp;</td>\n",
    "    <!-- ############################################# -->\n",
    "    <td style=\"padding:0px;width:90px;\">\n",
    "        <img align=\"right\" src=\"qworld/images/follow_us.png\" height=\"40px\"></td>\n",
    "    <td style=\"padding:0px;width:40px;\">\n",
    "        <a href=\"https://twitter.com/QWorld19\" target=\"_blank\">\n",
    "        <img align=\"right\" src=\"qworld/images/Twitter.png\" width=\"40px\"></a> </td>\n",
    "    <td style=\"padding:0px;width:5px;\"></td>\n",
    "    <td style=\"padding:0px;width:40px;\">\n",
    "        <a href=\"https://www.facebook.com/qworld19/\" target=\"_blank\">\n",
    "        <img align=\"right\" src=\"qworld/images/Fb.png\"></a></td>\n",
    "    <td style=\"padding:0px;width:5px;\"></td>\n",
    "    <td style=\"padding:0px;width:40px;\">\n",
    "        <a href=\"https://www.linkedin.com/company/qworld19\" target=\"_blank\">\n",
    "        <img align=\"right\" src=\"qworld/images/LinkedIn.png\"></a></td>\n",
    "    <td style=\"padding:0px;width:5px;\"></td>\n",
    "    <td style=\"padding:0px;width:40px;\">\n",
    "        <a href=\"https://youtube.com/QWorld19?sub_confirmation=1\" target=\"_blank\">\n",
    "        <img align=\"right\" src=\"qworld/images/YT.png\"></a></td>\n",
    "    <!-- ############################################# -->\n",
    "    <td style=\"padding:0px;width:60px;\">\n",
    "        <img align=\"right\" src=\"qworld/images/join.png\" height=\"40px\"></td>\n",
    "    <td style=\"padding:0px;width:40px;\">\n",
    "        <a href=\"https://discord.gg/akCvr7U87g\"\n",
    "           target=\"_blank\">\n",
    "        <img align=\"right\" src=\"qworld/images/Discord.png\"></a></td>\n",
    "    <!-- ############################################# -->\n",
    "    <td style=\"padding:0px;width:72px;\">\n",
    "        <img align=\"right\" src=\"qworld/images/w3.png\" height=\"40px\"></td>\n",
    "    <td style=\"padding:0px;width:40px;\">\n",
    "        <a href=\"https://qworld.net\" target=\"_blank\">\n",
    "        <img align=\"right\" src=\"qworld/images/www.png\"></a></td>\n",
    "</tr></table>"
   ]
  },
  {
   "cell_type": "markdown",
   "id": "054aea3b",
   "metadata": {},
   "source": [
    "<h1 align=\"left\" style=\"color: #cd7f32;\"> Contents </h1>"
   ]
  },
  {
   "cell_type": "markdown",
   "id": "890cc458",
   "metadata": {},
   "source": [
    "### Prerequisites\n",
    "\n",
    "These notebooks are intended to be a Mathematical Introduction to Quantum Computing, mainly aimed to firts years university students. The student is expected to have gone thru a first course on Linear Algebra and have some exposure to Trigonometry, Probablity Theory and Complex Numbers. All exercises can be worked out with pen and paper, so no special software is required beyond the ability to run Jupyter Notebooks."
   ]
  },
  {
   "cell_type": "markdown",
   "id": "d5230ec7",
   "metadata": {},
   "source": [
    "### Introduction\n",
    "\n",
    "[Motivation](1-intro/Motivation.ipynb) &nbsp;|&nbsp;\n",
    "[Logic Gates](1-intro/LogicGates.ipynb)"
   ]
  },
  {
   "cell_type": "markdown",
   "id": "0e909500",
   "metadata": {},
   "source": [
    "### Mathematics for Quantum Computing\n",
    "\n",
    "[Hilbert Space](2-math/HilbertSpace.ipynb) &nbsp;|&nbsp;\n",
    "[Bloch Sphere & Qubits](2-math/BlochSphere.ipynb) &nbsp;|&nbsp;\n",
    "[Tensor Product](2-math/TensorProduct.ipynb) &nbsp;|&nbsp;\n",
    "[Linear Operators](2-math/LinearOperators.ipynb) &nbsp;|&nbsp;\n",
    "[Spectral Theory](2-math/SpectralTheory.ipynb) &nbsp;|&nbsp;\n",
    "[Heisenberg Principle](2-math/HeisenbergPrinciple.ipynb) &nbsp;|&nbsp;\n",
    "[Pauli Operators](2-math/PauliOperators.ipynb)"
   ]
  },
  {
   "cell_type": "markdown",
   "id": "e0c003db",
   "metadata": {},
   "source": [
    "### A (Very) Short Introduction to Quantum Mechanics\n",
    "\n",
    "[Quantum Mechanics Postulates](3-qm/Postulates.ipynb) &nbsp;|&nbsp;\n",
    "[Time Evolution Operator](3-qm/TimeEvolution.ipynb) &nbsp;|&nbsp;\n",
    "[Wroked Example](3-qm/WorkedExample.ipynb) &nbsp;|&nbsp;\n",
    "[Projective Measurement](3-qm/ProjectiveMeasurement.ipynb)"
   ]
  },
  {
   "cell_type": "markdown",
   "id": "2e7d9dda",
   "metadata": {},
   "source": [
    "### Quantum Entanglement\n",
    "\n",
    "[Einstein-Podolsky-Rosen Paradox](4-entangle/EPR-Paradox.ipynb) &nbsp;|&nbsp;\n",
    "[Quantum Entanglement](4-entangle/Entanglement.ipynb) &nbsp;|&nbsp;\n",
    "[Bell's Inequality](4-entangle/Bell.ipynb)"
   ]
  },
  {
   "cell_type": "markdown",
   "id": "7bfafba5",
   "metadata": {},
   "source": [
    "### Quantum Gates\n",
    "\n",
    "[Quantum Logic Gates](5-gates/Gates.ipynb) &nbsp;|&nbsp;\n",
    "[Hadamard Gate](5-gates/Hadamard.ipynb) &nbsp;|&nbsp;\n",
    "[Rotation Gates](5-gates/Rotation.ipynb) &nbsp;|&nbsp;\n",
    "[Single-Qubit Gates](5-gates/SingleQubit.ipynb) &nbsp;|&nbsp;\n",
    "[Multi-Qubit Gates](5-gates/MultiQubit.ipynb) &nbsp;|&nbsp;\n",
    "[Solovay-Kitaev Theorem](5-gates/Solovay-Kitaev.ipynb)"
   ]
  }
 ],
 "metadata": {
  "kernelspec": {
   "display_name": "Python 3",
   "language": "python",
   "name": "python3"
  },
  "language_info": {
   "codemirror_mode": {
    "name": "ipython",
    "version": 3
   },
   "file_extension": ".py",
   "mimetype": "text/x-python",
   "name": "python",
   "nbconvert_exporter": "python",
   "pygments_lexer": "ipython3",
   "version": "3.8.10"
  }
 },
 "nbformat": 4,
 "nbformat_minor": 5
}
