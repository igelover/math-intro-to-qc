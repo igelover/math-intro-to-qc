{
 "cells": [
  {
   "cell_type": "markdown",
   "id": "6dba718d",
   "metadata": {},
   "source": [
    "<a href=\"https://qworld.net\" target=\"_blank\" align=\"left\"><img src=\"../qworld/images/header.jpg\"  align=\"left\"></a>\n",
    "$$\n",
    "\\newcommand{\\set}[1]{\\left\\{#1\\right\\}}\n",
    "\\newcommand{\\abs}[1]{\\left\\lvert#1\\right\\rvert}\n",
    "\\newcommand{\\norm}[1]{\\left\\lVert#1\\right\\rVert}\n",
    "\\newcommand{\\inner}[2]{\\left\\langle#1,#2\\right\\rangle}\n",
    "\\newcommand{\\bra}[1]{\\left\\langle#1\\right|}\n",
    "\\newcommand{\\ket}[1]{\\left|#1\\right\\rangle}\n",
    "\\newcommand{\\braket}[2]{\\left\\langle#1|#2\\right\\rangle}\n",
    "\\newcommand{\\ketbra}[2]{\\left|#1\\right\\rangle\\left\\langle#2\\right|}\n",
    "\\newcommand{\\angleset}[1]{\\left\\langle#1\\right\\rangle}\n",
    "$$"
   ]
  },
  {
   "cell_type": "markdown",
   "id": "27ff6a6e",
   "metadata": {},
   "source": [
    "# Linear Operators\n",
    "\n",
    "_prepared by Israel Gelover_"
   ]
  },
  {
   "cell_type": "markdown",
   "id": "98db4a86",
   "metadata": {},
   "source": [
    "Up to this point we have constructed the Bloch sphere, we have defined the qubits or elements of this sphere and we already have a tensor product between them. Let's see now what operations we can do with these qubits, not surprisingly these operations will be linear operators."
   ]
  },
  {
   "cell_type": "markdown",
   "id": "ec63b5e2",
   "metadata": {},
   "source": [
    "### <a name=\"definition_2_12\">Definition 2.12</a> Adjoint Operator\n",
    "\n",
    "Let $\\mathcal{H}$ be a Hilbert space and $A,B:\\mathcal{H} \\to \\mathcal{H}$ linear operators\n",
    "\n",
    "1. $B$ is the _Adjoint Operator_ of $A$ ($B=A^\\dagger$)  \n",
    "If $\\forall \\ket{f}, \\ket{g} \\in \\mathcal{H}$, we have\n",
    "\n",
    "\\begin{equation*}\n",
    "    (A\\ket{f}) \\cdot \\ket{g} = \\ket{f} \\cdot B\\ket{g}\n",
    "\\end{equation*}\n",
    "\n",
    "Where $\\cdot$ is the inner product in $\\mathcal{H}$.  \n",
    "\n",
    "**Remark:** $A^\\dagger$ exists and is unique.\n",
    "\n",
    "2. A is called _self-adjoint_ or _Hermitian_ if $A = A^\\dagger$"
   ]
  },
  {
   "cell_type": "markdown",
   "id": "2298bde3",
   "metadata": {},
   "source": [
    "### <a name=\"proposition_2_13\">Proposition 2.13</a>\n",
    "\n",
    "Let $\\mathcal{H}$ be a finite-dimensional Hilbert space with <a href=\"./HilbertSpace.ipynb#definition_2_2\">Hermitian inner product</a> and $A$ a linear operator, then $A^\\dagger = (A^\\top)^*$  \n",
    "That is, the adjoint operator is the complex conjugate of the transpose."
   ]
  },
  {
   "cell_type": "markdown",
   "id": "326be74b",
   "metadata": {},
   "source": [
    "### <a name=\"remark_2_14\">Remark 2.14</a>\n",
    "\n",
    "Let $\\mathcal{H}$ be a finite-dimensional Hilbert space. $A,B:\\mathcal{H} \\to \\mathcal{H}$ linear operators, $\\alpha \\in \\mathbb{C}$ and $\\ket{x} \\in \\mathcal{H}$, then\n",
    "\n",
    "1. $(A^\\dagger)^\\dagger = A$\n",
    "2. $(A+B)^\\dagger = A^\\dagger + B^\\dagger$\n",
    "3. $(\\alpha A)^\\dagger = \\alpha^* A^\\dagger$\n",
    "4. $(AB)^\\dagger = B^\\dagger A^\\dagger$\n",
    "5. $\\ket{\\psi} = A\\ket{x} \\implies \\bra{\\psi} = \\bra{x}A^\\dagger$\n",
    "6. $\\bra{\\phi}A\\ket{\\psi} = \\bra{\\phi}A^\\dagger\\ket{\\psi}$ if $A = A^\\dagger$"
   ]
  },
  {
   "cell_type": "markdown",
   "id": "08146790",
   "metadata": {},
   "source": [
    "### <a name=\"definition_2_15\">Definition 2.15</a> Unitary Operator\n",
    "\n",
    "Let $U:\\mathcal{H} \\to \\mathcal{H}$ be a linear operator, $U$ is called _Unitary Operator_ if there exists $U^{-1}$ such that $\\forall \\ket{f}, \\ket{g} \\in \\mathcal{H}$ we have that\n",
    "\n",
    "\\begin{equation*}\n",
    "    (U\\ket{f}) \\cdot (U\\ket{g}) = \\ket{f} \\cdot \\ket{g}\n",
    "\\end{equation*}\n",
    "\n",
    "Where $\\cdot$ is the inner product in $\\mathcal{H}$.\n",
    "\n",
    "From part **3.** of **Remark 2.14**, we have that the bra associated to the first element of the inner product is the bra of the vector times the adjoint operator, that is\n",
    "\n",
    "\\begin{equation*}\n",
    "    \\bra{f} \\underbrace{U^\\dagger U}_{I} \\ket{g} = \\braket{f}{g}\n",
    "\\end{equation*}\n",
    "\n",
    "That is, a linear operator is said to be unitary if it has an inverse and also preserves the inner product. When preserving the product we have that\n",
    "\n",
    "\\begin{equation*}\n",
    "    (U\\ket{f}) \\cdot (U\\ket{f}) = \\braket{f}{f} = \\norm{f}^2\n",
    "\\end{equation*}\n",
    "\n",
    "Therefore a unitary operator also preserves the norm induced by the inner product."
   ]
  },
  {
   "cell_type": "markdown",
   "id": "41690b57",
   "metadata": {},
   "source": [
    "### <a name=\"proposition_2_16\">Proposition 2.16</a>\n",
    "\n",
    "Let $\\mathcal{H}$ be a finite-dimensional Hilbert space. $U:\\mathcal{H} \\to \\mathcal{H}$ a unitary operator, then $U^\\dagger U = I = U U^\\dagger$\n",
    "\n",
    "**Remark: Definition 2.15** and this Proposition are equivalent."
   ]
  }
 ],
 "metadata": {
  "kernelspec": {
   "display_name": "Python 3",
   "language": "python",
   "name": "python3"
  },
  "language_info": {
   "codemirror_mode": {
    "name": "ipython",
    "version": 3
   },
   "file_extension": ".py",
   "mimetype": "text/x-python",
   "name": "python",
   "nbconvert_exporter": "python",
   "pygments_lexer": "ipython3",
   "version": "3.8.8"
  }
 },
 "nbformat": 4,
 "nbformat_minor": 5
}
