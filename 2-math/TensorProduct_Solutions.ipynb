{
 "cells": [
  {
   "cell_type": "markdown",
   "id": "6dba718d",
   "metadata": {},
   "source": [
    "<a href=\"https://qworld.net\" target=\"_blank\" align=\"left\"><img src=\"../qworld/images/header.jpg\"  align=\"left\"></a>\n",
    "$$\n",
    "\\newcommand{\\set}[1]{\\left\\{#1\\right\\}}\n",
    "\\newcommand{\\abs}[1]{\\left\\lvert#1\\right\\rvert}\n",
    "\\newcommand{\\norm}[1]{\\left\\lVert#1\\right\\rVert}\n",
    "\\newcommand{\\inner}[2]{\\left\\langle#1,#2\\right\\rangle}\n",
    "\\newcommand{\\bra}[1]{\\left\\langle#1\\right|}\n",
    "\\newcommand{\\ket}[1]{\\left|#1\\right\\rangle}\n",
    "\\newcommand{\\braket}[2]{\\left\\langle#1|#2\\right\\rangle}\n",
    "\\newcommand{\\ketbra}[2]{\\left|#1\\right\\rangle\\left\\langle#2\\right|}\n",
    "\\newcommand{\\angleset}[1]{\\left\\langle#1\\right\\rangle}\n",
    "$$"
   ]
  },
  {
   "cell_type": "markdown",
   "id": "27ff6a6e",
   "metadata": {},
   "source": [
    "# Tensor Product\n",
    "\n",
    "_prepared by Israel Gelover_"
   ]
  },
  {
   "cell_type": "markdown",
   "id": "ec63b5e2",
   "metadata": {},
   "source": [
    "### Task 1.\n",
    "\n",
    "(On paper) Let $\\mathbb{B}$ be the <a href=\"./BlochSphere.ipynb#definition_2_7\">Bloch Sphere</a>, calculate the tensor product $\\mathbb{B} \\otimes \\mathbb{B}$"
   ]
  },
  {
   "cell_type": "markdown",
   "id": "c8e04b05",
   "metadata": {},
   "source": [
    "### <a name=\"task_1\">Solution</a>\n",
    "\n",
    "Given the fact that $\\set{\\ket{0}, \\ket{1}}$ is a basis of $\\mathbb{B}$\n",
    "\n",
    "\\begin{equation*}\n",
    "    \\begin{split}\n",
    "        \\mathbb{B}^{\\otimes 2} &= \\mathbb{B} \\otimes \\mathbb{B} \\\\\n",
    "        &= \\angleset{\\set{\\ket{0}, \\ket{1}}} \\otimes \\angleset{\\set{\\ket{0}, \\ket{1}}} = \\angleset{\\set{\\ket{0} \\otimes \\ket{0}, \\ket{0} \\otimes \\ket{1}, \\ket{1} \\otimes \\ket{0}, \\ket{1} \\otimes \\ket{1}}} \\\\\n",
    "        &= \\angleset{\\set{\\ket{00}, \\ket{01}, \\ket{10}, \\ket{11}}} \\\\\\\\\n",
    "        &\\text{equivalently, using vector notation} \\\\\n",
    "        &= \\angleset{\\set{\\begin{pmatrix} 1 \\\\ 0 \\end{pmatrix}, \\begin{pmatrix} 0 \\\\ 1 \\end{pmatrix}}} \\otimes \\angleset{\\set{\\begin{pmatrix} 1 \\\\ 0 \\end{pmatrix}, \\begin{pmatrix} 0 \\\\ 1 \\end{pmatrix}}} = \\angleset{\\set{\\begin{pmatrix} 1 \\\\ 0 \\\\ 0 \\\\ 0 \\end{pmatrix}, \\begin{pmatrix} 0 \\\\ 1 \\\\ 0 \\\\ 0 \\end{pmatrix}, \\begin{pmatrix} 0 \\\\ 0 \\\\ 1 \\\\ 0 \\end{pmatrix}, \\begin{pmatrix} 0 \\\\ 0 \\\\ 0 \\\\ 1 \\end{pmatrix}}}\n",
    "    \\end{split}\n",
    "\\end{equation*}\n"
   ]
  },
  {
   "cell_type": "markdown",
   "id": "e8123c61",
   "metadata": {},
   "source": [
    "### Task 2.\n",
    "\n",
    "(On paper) Let $\\ket{\\psi} = \\alpha\\ket{0} + \\beta\\ket{1}$ y $\\ket{\\phi} = \\gamma\\ket{0} + \\delta\\ket{1} \\in \\mathbb{B}$, calculate $\\ket{\\psi} \\otimes \\ket{\\phi}$"
   ]
  },
  {
   "cell_type": "markdown",
   "id": "715f7520",
   "metadata": {},
   "source": [
    "### <a name=\"task_2\">Solution</a>\n",
    "\n",
    "\\begin{equation*}\n",
    "    \\begin{split}\n",
    "        \\ket{\\psi} \\otimes \\ket{\\phi} &= (\\alpha\\ket{0} + \\beta\\ket{1}) \\otimes (\\gamma\\ket{0} + \\delta\\ket{1}) \\\\\n",
    "        &= \\alpha\\gamma\\ket{0} \\otimes \\ket{0} + \\alpha\\delta\\ket{0} \\otimes \\ket{1} + \\beta\\gamma\\ket{1} \\otimes \\ket{0} + \\beta\\delta\\ket{1} \\otimes \\ket{1} \\\\\n",
    "        &= \\alpha\\gamma\\ket{00} + \\alpha\\delta\\ket{01} + \\beta\\gamma\\ket{10} + \\beta\\delta\\ket{11}\n",
    "    \\end{split}\n",
    "\\end{equation*}"
   ]
  },
  {
   "cell_type": "markdown",
   "id": "6ab99302",
   "metadata": {},
   "source": [
    "### Task 3.\n",
    "\n",
    "(On paper) Let \n",
    "$$\\ket{\\psi} = \\alpha\\ket{0} \\otimes \\ket{0} + \\beta\\ket{0} \\otimes \\ket{1}$$\n",
    "and\n",
    "$$\\ket{\\phi} = \\ket{0} \\otimes \\ket{1}$$\n",
    "using <a href=\"./TensorProduct.ipynb#remark_2_10\">Remark 2.10</a> calculate the inner product of these two vectors.\n"
   ]
  },
  {
   "cell_type": "markdown",
   "id": "c19a2dce",
   "metadata": {},
   "source": [
    "### <a name=\"task_3\">Solution</a>\n",
    "\n",
    "\\begin{equation*}\n",
    "    \\begin{split}\n",
    "        \\braket{\\phi}{\\psi} &= \\bra{0} \\otimes \\bra{1} (\\alpha\\ket{0} \\otimes \\ket{0} + \\beta\\ket{0} \\otimes \\ket{1}) \\\\\n",
    "        &= \\alpha\\braket{0}{0}\\braket{1}{0} + \\beta\\braket{0}{0}\\braket{1}{1} \\\\\n",
    "        &= \\alpha(1)(0) + \\beta(1)(1) = \\beta\n",
    "    \\end{split}\n",
    "\\end{equation*}\n",
    "\n",
    "Since $\\ket{0}$, $\\ket{1}$ are orthonormal vectors."
   ]
  },
  {
   "cell_type": "markdown",
   "id": "1ee173b0",
   "metadata": {},
   "source": [
    "### Task 3.\n",
    "\n",
    "(On paper) Let \n",
    "$$\\underbrace{\\ket{01}}_{\\ket{0} \\otimes \\ket{1}} \\in \\mathbb{B} \\otimes \\mathbb{B}$$\n",
    "\n",
    "Calculate\n",
    "\n",
    "$$\\bra{01}\\sigma_z \\otimes \\sigma_x\\ket{01}$$\n",
    "\n",
    "Where $\\sigma_x$ and $\\sigma_z$ are the Pauli operators."
   ]
  },
  {
   "cell_type": "markdown",
   "id": "02d4ce89",
   "metadata": {},
   "source": [
    "### <a name=\"task_4\">Solution</a>\n",
    "\n",
    "\\begin{equation*}\n",
    "    \\begin{split}\n",
    "        \\bra{01}\\sigma_z \\otimes \\sigma_x\\ket{01} &= \\bra{01}\\sigma_z \\otimes \\sigma_x(\\ket{0} \\otimes \\ket{1}) \\\\\n",
    "        &= \\bra{01}\\sigma_z(\\ket{0}) \\otimes \\sigma_x(\\ket{1}) \\\\\n",
    "        &= \\bra{01} \\enspace \\ket{0} \\otimes \\ket{0} \\\\\n",
    "        &= \\braket{01}{00} = \\ket{01} \\cdot \\ket{00} = 0\n",
    "    \\end{split}\n",
    "\\end{equation*}\n",
    "\n",
    "Since $\\ket{00}$ and $\\ket{01}$ are orthogonal vectors in the canonical basis of $\\mathbb{B} \\otimes \\mathbb{B}$"
   ]
  }
 ],
 "metadata": {
  "kernelspec": {
   "display_name": "Python 3",
   "language": "python",
   "name": "python3"
  },
  "language_info": {
   "codemirror_mode": {
    "name": "ipython",
    "version": 3
   },
   "file_extension": ".py",
   "mimetype": "text/x-python",
   "name": "python",
   "nbconvert_exporter": "python",
   "pygments_lexer": "ipython3",
   "version": "3.8.8"
  }
 },
 "nbformat": 4,
 "nbformat_minor": 5
}
