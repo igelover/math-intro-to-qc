{
 "cells": [
  {
   "cell_type": "markdown",
   "id": "6dba718d",
   "metadata": {},
   "source": [
    "<a href=\"https://qworld.net\" target=\"_blank\" align=\"left\"><img src=\"../qworld/images/header.jpg\"  align=\"left\"></a>\n",
    "$$\n",
    "\\newcommand{\\set}[1]{\\left\\{#1\\right\\}}\n",
    "\\newcommand{\\abs}[1]{\\left\\lvert#1\\right\\rvert}\n",
    "\\newcommand{\\norm}[1]{\\left\\lVert#1\\right\\rVert}\n",
    "\\newcommand{\\inner}[2]{\\left\\langle#1,#2\\right\\rangle}\n",
    "\\newcommand{\\bra}[1]{\\left\\langle#1\\right|}\n",
    "\\newcommand{\\ket}[1]{\\left|#1\\right\\rangle}\n",
    "\\newcommand{\\braket}[2]{\\left\\langle#1|#2\\right\\rangle}\n",
    "\\newcommand{\\ketbra}[2]{\\left|#1\\right\\rangle\\left\\langle#2\\right|}\n",
    "\\newcommand{\\angleset}[1]{\\left\\langle#1\\right\\rangle}\n",
    "\\newcommand{\\expected}[1]{\\left\\langle#1\\right\\rangle}\n",
    "$$"
   ]
  },
  {
   "cell_type": "markdown",
   "id": "27ff6a6e",
   "metadata": {},
   "source": [
    "# Spectral Theory\n",
    "\n",
    "_prepared by Israel Gelover_"
   ]
  },
  {
   "cell_type": "markdown",
   "id": "9aca0166",
   "metadata": {},
   "source": [
    "### Task 1.\n",
    "\n",
    "(On paper) Let $\\ket{f} = \\frac{1}{\\sqrt{3}}\\ket{0} + \\sqrt{\\frac{2}{3}}\\ket{1} \\in \\mathbb{B}$.  \n",
    "Calculate the expected value of $\\sigma_x$ in $\\ket{f}$"
   ]
  },
  {
   "cell_type": "markdown",
   "id": "dd4e9280",
   "metadata": {},
   "source": [
    "### <a name=\"task_1\">Solution</a>\n",
    "\n",
    "\\begin{equation*}\n",
    "    \\begin{split}\n",
    "        \\expected{\\sigma_x}_f &= \\bra{f}\\sigma_x\\ket{f} \\\\\n",
    "        &= \\left(\\frac{1}{\\sqrt{3}}\\bra{0} + \\sqrt{\\frac{2}{3}}\\bra{1}\\right) \\sigma_x \\left(\\frac{1}{\\sqrt{3}}\\ket{0} + \\sqrt{\\frac{2}{3}}\\ket{1}\\right) \\\\\n",
    "        &= \\left(\\frac{1}{\\sqrt{3}}\\bra{0} + \\sqrt{\\frac{2}{3}}\\bra{1}\\right)\\left(\\frac{1}{\\sqrt{3}}\\ket{1} + \\sqrt{\\frac{2}{3}}\\ket{0}\\right) \\\\\n",
    "        &= \\frac{1}{3}\\braket{0}{1} + \\frac{\\sqrt{2}}{3}\\braket{0}{0} + \\frac{\\sqrt{2}}{3}\\braket{1}{1} + \\frac{2}{3}\\braket{1}{0} \\\\\n",
    "        &= \\frac{\\sqrt{2}}{3} + \\frac{\\sqrt{2}}{3} = \\frac{2\\sqrt{2}}{3}\n",
    "    \\end{split}\n",
    "\\end{equation*}"
   ]
  },
  {
   "cell_type": "markdown",
   "id": "b79e0f1e",
   "metadata": {},
   "source": [
    "### Task 2.\n",
    "\n",
    "(On paper) Let $\\ket{f}$ be as in Task 1.  \n",
    "Calculate the standard deviation of $\\sigma_x$ in $\\ket{f}$"
   ]
  },
  {
   "cell_type": "markdown",
   "id": "bf838d54",
   "metadata": {},
   "source": [
    "### <a name=\"task_2\">Solution</a>\n",
    "\n",
    "From <a href=\"./HeisenbergPrinciple.ipynb#definition_2_23\">Definition 2.23</a> we know that\n",
    "\n",
    "\\begin{equation*}\n",
    "    \\Delta_f \\sigma_x = \\sqrt{\\expected{\\sigma_x^2}_f - \\expected{\\sigma_x}_f^2}\n",
    "\\end{equation*}\n",
    "\n",
    "Let us remember that\n",
    "\n",
    "\\begin{equation*}\n",
    "    \\sigma_x^2 = \\begin{pmatrix}0 & 1 \\\\ 1 & 0\\end{pmatrix} \\begin{pmatrix}0 & 1 \\\\ 1 & 0\\end{pmatrix} = \\begin{pmatrix}1 & 0 \\\\ 0 & 1\\end{pmatrix} = I\n",
    "\\end{equation*}\n",
    "\n",
    "Then\n",
    "\n",
    "\\begin{equation*}\n",
    "    \\begin{split}\n",
    "        \\expected{\\sigma_x^2}_f &= \\bra{f} \\sigma_x^2 \\ket{f} = \\braket{f}{f} = 1 \\\\\n",
    "        \\expected{\\sigma_x}_f^2 &= \\left(\\frac{2\\sqrt{2}}{3}\\right)^2 = \\frac{8}{9}\n",
    "    \\end{split}\n",
    "\\end{equation*}\n",
    "\n",
    "Therefore\n",
    "\n",
    "\\begin{equation*}\n",
    "    \\Delta_f \\sigma_x = \\sqrt{1 - \\frac{8}{9}} = \\sqrt{\\frac{1}{9}} = \\frac{1}{3}\n",
    "\\end{equation*}"
   ]
  }
 ],
 "metadata": {
  "kernelspec": {
   "display_name": "Python 3",
   "language": "python",
   "name": "python3"
  },
  "language_info": {
   "codemirror_mode": {
    "name": "ipython",
    "version": 3
   },
   "file_extension": ".py",
   "mimetype": "text/x-python",
   "name": "python",
   "nbconvert_exporter": "python",
   "pygments_lexer": "ipython3",
   "version": "3.8.8"
  }
 },
 "nbformat": 4,
 "nbformat_minor": 5
}
