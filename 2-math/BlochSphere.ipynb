{
 "cells": [
  {
   "cell_type": "markdown",
   "id": "6dba718d",
   "metadata": {},
   "source": [
    "<a href=\"https://qworld.net\" target=\"_blank\" align=\"left\"><img src=\"../qworld/images/header.jpg\"  align=\"left\"></a>\n",
    "$$\n",
    "\\newcommand{\\set}[1]{\\left\\{#1\\right\\}}\n",
    "\\newcommand{\\abs}[1]{\\left\\lvert#1\\right\\rvert}\n",
    "\\newcommand{\\norm}[1]{\\left\\lVert#1\\right\\rVert}\n",
    "\\newcommand{\\inner}[2]{\\left\\langle#1,#2\\right\\rangle}\n",
    "\\newcommand{\\bra}[1]{\\left\\langle#1\\right|}\n",
    "\\newcommand{\\ket}[1]{\\left|#1\\right\\rangle}\n",
    "\\newcommand{\\braket}[2]{\\left\\langle#1|#2\\right\\rangle}\n",
    "\\newcommand{\\ketbra}[2]{\\left|#1\\right\\rangle\\left\\langle#2\\right|}\n",
    "\\newcommand{\\angleset}[1]{\\left\\langle#1\\right\\rangle}\n",
    "$$"
   ]
  },
  {
   "cell_type": "markdown",
   "id": "27ff6a6e",
   "metadata": {},
   "source": [
    "# Bloch Sphere\n",
    "\n",
    "_prepared by Israel Gelover_"
   ]
  },
  {
   "cell_type": "markdown",
   "id": "59eb7f0a",
   "metadata": {},
   "source": [
    "We can understand the **Bloch Sphere** as the geometric structure that emerges from the physical restrictions that are imposed on a vector space in order for it to represent the state space of a two-level physical system."
   ]
  },
  {
   "cell_type": "markdown",
   "id": "69777c15",
   "metadata": {},
   "source": [
    "### <a name=\"definition_2_7\">Definition 2.7</a>\n",
    "\n",
    "Let us consider the vector space $\\mathbb{C}^2$ over the field of the same complex numbers, that is ${}_\\mathbb{C}\\mathbb{C}^2 = \\set{ \\begin{pmatrix} a \\\\ b \\end{pmatrix} \\mid a,b \\in \\mathbb{C}}$ with the Hermitian inner product\n",
    "\n",
    "\\begin{equation*}\n",
    "    \\underbrace{\\begin{pmatrix} a \\\\ b \\end{pmatrix} \\cdot \\begin{pmatrix} c \\\\ d \\end{pmatrix}}_\\text{Hermitian inner product} = \\begin{pmatrix} a \\\\ b \\end{pmatrix}^\\dagger \\begin{pmatrix} c \\\\ d \\end{pmatrix} = \\begin{pmatrix} a^* & b^* \\end{pmatrix} \\begin{pmatrix} c \\\\ d \\end{pmatrix} = a^*c + b^*d\n",
    "\\end{equation*}\n",
    "\n",
    "where the set $\\set{\\begin{pmatrix} 1 \\\\ 0 \\end{pmatrix}, \\begin{pmatrix} 0 \\\\ 1 \\end{pmatrix}}$ is a base of the space. Let us define\n",
    "\n",
    "\\begin{equation*}\n",
    "    \\begin{split}\n",
    "        \\ket{0} &:= \\begin{pmatrix} 1 \\\\ 0 \\end{pmatrix} \\\\\n",
    "        \\ket{1} &:= \\begin{pmatrix} 0 \\\\ 1 \\end{pmatrix}\n",
    "    \\end{split}\n",
    "\\end{equation*}\n",
    "\n",
    "That is, we can express any vector in the space as a linear combination of the elements of the base\n",
    "\n",
    "\\begin{equation*}\n",
    "    \\ket{\\psi} \\in {}_\\mathbb{C}\\mathbb{C}^2 \\implies \\ket{\\psi} = \\begin{pmatrix} \\alpha \\\\ \\beta \\end{pmatrix} = \\alpha \\ket{0} + \\beta \\ket{1} \\enspace \\alpha, \\beta \\in \\mathbb{C}        \n",
    "\\end{equation*}"
   ]
  },
  {
   "cell_type": "markdown",
   "id": "70f4b61b",
   "metadata": {},
   "source": [
    "## Physical Constraints\n",
    "\n",
    "Let's see what else we need from a space to correctly model a two-level quantum system.\n",
    "\n",
    "**1. Invariance with respect to global phase.**  \n",
    "The motivation behind the invariance with respect to global phase will be more evident when the postulates of Quantum Mechanics are listed, but for now we can mention the fact that the norms are going to have an interpretation as probabilities and when we calculate the norm of a vector is not relevant if it has a global phase multiplying.\n",
    "We denote this as follows\n",
    "\n",
    "\\begin{equation*}\n",
    "    \\forall \\ket{\\psi} \\in {}_\\mathbb{C}\\mathbb{C}^2 \\implies \\ket{\\psi} \\equiv e^{i\\phi}\\ket{\\psi}\n",
    "\\end{equation*}\n",
    "\n",
    "**Remark:** If the phase is multiplying only one of the components of the vector, we are talking about a relative phase and in that case we do not have the aforementioned equivalence.\n",
    "\n",
    "\\begin{equation*}\n",
    "    \\begin{split}\n",
    "        \\ket{\\psi} = \\alpha\\ket{0} + \\beta\\ket{1} &\\equiv e^{i\\phi}\\alpha\\ket{0} + e^{i\\phi}\\beta\\ket{1} \\text{ (global phase)}\\\\\n",
    "        &\\not\\equiv \\alpha\\ket{0} + e^{i\\phi}\\beta\\ket{1} \\text{ (relative phase)}\\\\\n",
    "        &\\not\\equiv e^{i\\phi}\\alpha\\ket{0} + \\beta\\ket{1} \\text{ (relative phase)}\n",
    "    \\end{split}\n",
    "\\end{equation*}\n",
    "\n",
    "We can see this in the following way:\n",
    "\n",
    "\\begin{equation*}\n",
    "    \\abs{e^{i\\phi}\\alpha}^2 = (e^{i\\phi}\\alpha)(e^{i\\phi}\\alpha)^* = (e^{i\\phi}\\alpha)(e^{-i\\phi}\\alpha^*) = \\alpha\\alpha^* = \\abs{\\alpha}^2 \n",
    "\\end{equation*}\n",
    "\n",
    "similarly, we have the same for $\\abs{\\beta}^2$.\n",
    "\n",
    "**2. Normalization condition.**  \n",
    "We want all vectors to be unitary, that is, with a norm equal to 1.\n",
    "\n",
    "\\begin{equation*}\n",
    "    \\inner{\\psi}{\\psi} = 1 \\enspace \\text{ i.e.} \\ket{\\psi} = \\alpha\\ket{0} + \\beta\\ket{1} \\implies \\abs{\\alpha}^2 + \\abs{\\beta}^2 = 1\n",
    "\\end{equation*}\n",
    "\n",
    "Now let's see how these restrictions affect our space. On one hand, let us note that if $\\ket{\\psi} = \\alpha\\ket{0} + \\beta\\ket{1}$ we can express it in its polar form as\n",
    "\n",
    "\\begin{equation*}\n",
    "    \\ket{\\psi} = r_\\alpha e^{i\\phi_{\\alpha}}\\ket{0} + r_\\beta e^{i\\phi_{\\beta}}\\ket{1}\n",
    "\\end{equation*}\n",
    "\n",
    "That is, we originally had four degrees of freedom to choose these parameters $r_\\alpha, \\phi_{\\alpha}, r_\\beta, \\phi_{\\beta}$. On the other hand, from **1**. and **2.** we have\n",
    "\n",
    "\\begin{equation*}\n",
    "    \\begin{split}\n",
    "        \\ket{\\psi} &= r_\\alpha e^{i\\phi_{\\alpha}}\\ket{0} + r_\\beta e^{i\\phi_{\\beta}}\\ket{1} \\\\\n",
    "        &= e^{i\\phi_{\\alpha}}\\left[r_\\alpha\\ket{0} + \\underbrace{\\sqrt{1-r_\\alpha}}_\\text{due to 1.} e^{i(\\phi_\\beta-\\phi\\alpha)}\\ket{1} \\right] \\\\\n",
    "        & \\underbrace{\\equiv}_\\text{due to 2.} r_\\alpha\\ket{0} + \\sqrt{1-r_\\alpha} e^{i(\\phi_\\beta-\\phi\\alpha)}\\ket{1}\n",
    "    \\end{split}\n",
    "\\end{equation*}\n",
    "\n",
    "With $0 \\leq r_\\alpha \\leq 1$. Thus, if we map\n",
    "\n",
    "\\begin{equation*}\n",
    "    \\begin{split}\n",
    "        r_\\alpha &\\longrightarrow \\cos\\left(\\frac{\\theta}{2}\\right) \\enspace 0 \\leq \\theta \\leq \\pi \\\\\n",
    "        \\phi_\\beta-\\phi_\\alpha &\\longrightarrow \\phi\n",
    "    \\end{split}\n",
    "\\end{equation*}\n",
    "\n",
    "It turns out that, by including the physical constraints 1. and 2., we reduce the degrees of freedom to from four to two. That is, $\\theta$ and $\\phi$ will be the angles that define a point in a spherical shell of radius $1$ (denoted by $\\mathbb{B}$) as follows:\n",
    "\n",
    "<img src=\"../img/bloch_sphere.jpg\" width=\"400\" height=\"400\" title=\"Bloch Sphere\"/>\n",
    "\n",
    "In summary, the Bloch Sphere is the geometric structure that arises from space ${}_\\mathbb{C}\\mathbb{C}^2$ under constraints **1.** and **2.** and associating its elements (points) with quantum states."
   ]
  },
  {
   "cell_type": "markdown",
   "id": "ec63b5e2",
   "metadata": {},
   "source": [
    "### <a name=\"definition_2_8\">Definition 2.8</a> Qubit\n",
    "\n",
    "A qubit is an element of the Bloch Sphere\n",
    "\n",
    "\\begin{equation*}\n",
    "    \\underbrace{\\ket{\\psi} = \\cos\\left(\\frac{\\theta}{2}\\right)\\ket{0} + e^{i\\phi}\\sin\\left(\\frac{\\theta}{2}\\right)\\ket{1}}_\\text{qubit's general form}\n",
    "\\end{equation*}\n",
    "\n",
    "Where $0 \\leq \\theta \\leq \\pi$ y $0 \\leq \\phi \\leq 2\\pi$.  \n",
    "That is, a vector of the space ${}_\\mathbb{C}\\mathbb{C}^2$ with norm 1, invariant with respect to global phase."
   ]
  }
 ],
 "metadata": {
  "kernelspec": {
   "display_name": "Python 3",
   "language": "python",
   "name": "python3"
  },
  "language_info": {
   "codemirror_mode": {
    "name": "ipython",
    "version": 3
   },
   "file_extension": ".py",
   "mimetype": "text/x-python",
   "name": "python",
   "nbconvert_exporter": "python",
   "pygments_lexer": "ipython3",
   "version": "3.8.8"
  }
 },
 "nbformat": 4,
 "nbformat_minor": 5
}
