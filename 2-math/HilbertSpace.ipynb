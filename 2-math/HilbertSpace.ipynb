{
 "cells": [
  {
   "cell_type": "markdown",
   "id": "6dba718d",
   "metadata": {},
   "source": [
    "<a href=\"https://qworld.net\" target=\"_blank\" align=\"left\"><img src=\"../qworld/images/header.jpg\"  align=\"left\"></a>\n",
    "$$\n",
    "\\newcommand{\\set}[1]{\\left\\{#1\\right\\}}\n",
    "\\newcommand{\\abs}[1]{\\left\\lvert#1\\right\\rvert}\n",
    "\\newcommand{\\norm}[1]{\\left\\lVert#1\\right\\rVert}\n",
    "\\newcommand{\\inner}[2]{\\left\\langle#1,#2\\right\\rangle}\n",
    "\\newcommand{\\bra}[1]{\\left\\langle#1\\right|}\n",
    "\\newcommand{\\ket}[1]{\\left|#1\\right\\rangle}\n",
    "\\newcommand{\\braket}[2]{\\left\\langle#1|#2\\right\\rangle}\n",
    "$$"
   ]
  },
  {
   "cell_type": "markdown",
   "id": "27ff6a6e",
   "metadata": {},
   "source": [
    "# Hilbert Space\n",
    "\n",
    "_prepared by Israel Gelover_"
   ]
  },
  {
   "cell_type": "markdown",
   "id": "69777c15",
   "metadata": {},
   "source": [
    "### <a name=\"definition_2_1\">Definition 2.1</a> Norm\n",
    "\n",
    "Let $V$ be a vector space over a field $\\mathbb{F}$, that can be $\\mathbb{R}$ or $\\mathbb{C}$. A _Norm_ in $V$ is a function $\\norm{}:V \\to \\mathbb{R}$ such that $\\forall x,y \\in V, a \\in \\mathbb{F}$ we have\n",
    "\n",
    "1. $\\norm{x} = 0 \\iff x = 0$\n",
    "2. $\\norm{ax} = \\abs{a}\\norm{x}$\n",
    "3. $\\norm{x+y} \\leq \\norm{x} + \\norm{y}$"
   ]
  },
  {
   "cell_type": "markdown",
   "id": "986d798c",
   "metadata": {},
   "source": [
    "### <a name=\"definition_2_2\">Definition 2.2</a> Inner Product\n",
    "\n",
    "Let $V$ be a vector space over a field $\\mathbb{F}$. An _Inner Product_ in $V$ is a function $\\inner{}{}:V \\times V \\to \\mathbb{R}$ such that $\\forall x,y,x \\in V, a \\in \\mathbb{F}$ we have\n",
    "\n",
    "1. $\\inner{x}{y} = \\inner{y}{x}^{*}$ (* denotes complex conjugate)\n",
    "2. $\\inner{x}{ay+z} = a\\inner{x}{y} + \\inner{x}{z}$ (linearity on the second entry)\n",
    "3. $x \\neq 0 \\implies \\inner{x}{x} > 0 \\in \\mathbb{R}$\n",
    "\n",
    "#### Examples:\n",
    "- Euclidean norm\n",
    "\\begin{equation*}\n",
    "    \\norm{x} = \\sqrt{\\inner{x}{x}} \n",
    "\\end{equation*}\n",
    "- Hermitian inner product\n",
    "\\begin{equation*}\n",
    "    \\begin{split}\n",
    "        \\inner{}{}:\\mathbb{C}^n \\times \\mathbb{C}^n &\\to \\mathbb{C} \\\\\n",
    "        (x,y) &\\to (x^{\\dagger}y) = (x^{\\top})^{*}y \\enspace \\text{(Complex conjugate of the transposed vector)}\n",
    "    \\end{split}\n",
    "\\end{equation*} "
   ]
  },
  {
   "cell_type": "markdown",
   "id": "8923b35c",
   "metadata": {},
   "source": [
    "### <a name=\"definition_2_3\">Definition 2.3</a> Dual Space\n",
    "\n",
    "Let $V$ be a vector space over a field $\\mathbb{F}$. The _Dual Space_ of $V$ is defined as\n",
    "\\begin{equation*}\n",
    "    V^* = \\set{\\varphi:V \\to \\mathbb{F} \\mid \\varphi \\text{ is linear}}\n",
    "\\end{equation*}\n",
    "\n",
    "$V^*$ is the space whose vectors are all the linear functions from $V$ to $\\mathbb{F}$.\n",
    "\n",
    "**Remark:** Note that $V^*$ is also a vector space over $\\mathbb{F}$."
   ]
  },
  {
   "cell_type": "markdown",
   "id": "4f0294d9",
   "metadata": {},
   "source": [
    "### <a name=\"definition_2_4\">Definition 2.4</a> Hilbert Space\n",
    "\n",
    "Let $V$ be a vector space with inner product. $V$ is a _Hilbert Space_ if\n",
    "\\begin{equation*}\n",
    "    \\left(\\lim_{n \\to \\infty}X_n\\right) \\in V \\enspace \\forall \\set{X_n}_{n \\in \\mathbb{N}} \\enspace \\text{Cauchy sequence in } V\n",
    "\\end{equation*}\n",
    "\n",
    "A vector space is a Hilbert Space if any Cauchy sequence converges to an element within the space, considering the convergence using the norm induced by the inner product.\n",
    "\n",
    "**Remark:** Every finite-dimensional vector space is a Hilbert space."
   ]
  },
  {
   "cell_type": "markdown",
   "id": "eafe28b9",
   "metadata": {},
   "source": [
    "### <a name=\"theorem_2_5\">Theorem 2.5</a> Riesz-Fréchet\n",
    "\n",
    "Let $V$ be a Hilbert Space, then\n",
    "\\begin{equation*}\n",
    "    \\forall \\varphi \\in V^* \\enspace \\exists! x \\in V \\text{ such that } \\varphi(y) = \\inner{x}{y} \\enspace \\forall y \\in V.\n",
    "\\end{equation*}\n",
    "\n",
    "To any element $\\varphi$ of the dual space, there corresponds a single vector $x$ in $V$ such that $\\varphi$ is equivalent to applying an inner product. That is, all the elements of the dual space are inner products with respect to an element of the space $V$.\n",
    "\n",
    "**Remark:** This implies that the space $V$ is isomorphic to its dual: $V \\cong V^*$\n",
    "\n",
    "#### Example:\n",
    "Let $V = \\mathbb{C}^n$ with $\\inner{x}{y} = x^\\dagger y$ be the Hermitian product in Hilbert space. Let us consider $x \\in V$, we can express it in terms of the canonical basis as\n",
    "\\begin{equation*}\n",
    "    x = \\begin{pmatrix}x_1 \\\\ x_2 \\\\ \\vdots \\\\ x_n \\end{pmatrix} \\implies \\varphi_x \\in V^*, \\varphi_x = \\begin{pmatrix} x_1^* & x_2^* & \\cdots & x_n^* \\end{pmatrix}, \\text{that is } \\varphi_x = x^\\dagger\n",
    "\\end{equation*}\n",
    "\n",
    "Note that if we apply this $\\varphi_x$ to any element $y \\in V$ we obtain the inner product of $x$ and $y$\n",
    "\\begin{equation*}\n",
    "    \\varphi_x(y) = \\begin{pmatrix} x_1^* & x_2^* & \\cdots & x_n^* \\end{pmatrix} \\begin{pmatrix} y_1 \\\\ y_2 \\\\ \\vdots \\\\ y_n \\end{pmatrix} = x^\\dagger y = \\inner{x}{y}\n",
    "\\end{equation*}\n",
    "\n",
    "The elements of $V$ are column vectors with respect to a basis, while the elements of $V^*$ are row vectors."
   ]
  },
  {
   "cell_type": "markdown",
   "id": "bc0d39a1",
   "metadata": {},
   "source": [
    "### <a name=\"definition_2_6\">Definition 2.6</a> Dirac Notation\n",
    "\n",
    "Let $\\mathcal{H}$ be a Hilbert space, we denote\n",
    "\\begin{equation*}\n",
    "    \\begin{split}\n",
    "        x \\in \\mathcal{H} &\\longrightarrow \\ket{x} \\in \\mathcal{H} \\text{ (ket)} \\\\\n",
    "        \\varphi_x \\in \\mathcal{H^*} &\\longrightarrow \\bra{x} \\in \\mathcal{H^*} \\text{ (bra)} \\\\\n",
    "        y \\in \\mathcal{H}, \\varphi_x(y) &\\longrightarrow \\inner{x}{y} = \\braket{x}{y} \\text{ (braket)}\n",
    "    \\end{split}\n",
    "\\end{equation*}\n",
    "\n",
    "This last equality is given by <a href=\"#theorem_2_5\">Riesz-Fréchet theorem</a>, where $\\inner{}{}$ refers to the inner product.\n",
    "\n",
    "Note that the Dirac notation is supported by the <a href=\"#theorem_2_5\">Riesz-Fréchet theorem</a>, that is, we can use it since any vector has its corresponding element of the dual space and any element in the dual has its corresponding vector; also, the way to represent how a bra acts over a ket is actually the inner product."
   ]
  }
 ],
 "metadata": {
  "kernelspec": {
   "display_name": "Python 3",
   "language": "python",
   "name": "python3"
  },
  "language_info": {
   "codemirror_mode": {
    "name": "ipython",
    "version": 3
   },
   "file_extension": ".py",
   "mimetype": "text/x-python",
   "name": "python",
   "nbconvert_exporter": "python",
   "pygments_lexer": "ipython3",
   "version": "3.8.8"
  }
 },
 "nbformat": 4,
 "nbformat_minor": 5
}
