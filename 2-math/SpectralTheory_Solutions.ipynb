{
 "cells": [
  {
   "cell_type": "markdown",
   "id": "6dba718d",
   "metadata": {},
   "source": [
    "<a href=\"https://qworld.net\" target=\"_blank\" align=\"left\"><img src=\"../qworld/images/header.jpg\"  align=\"left\"></a>\n",
    "$$\n",
    "\\newcommand{\\set}[1]{\\left\\{#1\\right\\}}\n",
    "\\newcommand{\\abs}[1]{\\left\\lvert#1\\right\\rvert}\n",
    "\\newcommand{\\norm}[1]{\\left\\lVert#1\\right\\rVert}\n",
    "\\newcommand{\\inner}[2]{\\left\\langle#1,#2\\right\\rangle}\n",
    "\\newcommand{\\bra}[1]{\\left\\langle#1\\right|}\n",
    "\\newcommand{\\ket}[1]{\\left|#1\\right\\rangle}\n",
    "\\newcommand{\\braket}[2]{\\left\\langle#1|#2\\right\\rangle}\n",
    "\\newcommand{\\ketbra}[2]{\\left|#1\\right\\rangle\\left\\langle#2\\right|}\n",
    "\\newcommand{\\angleset}[1]{\\left\\langle#1\\right\\rangle}\n",
    "$$"
   ]
  },
  {
   "cell_type": "markdown",
   "id": "27ff6a6e",
   "metadata": {},
   "source": [
    "# Spectral Theory\n",
    "\n",
    "_prepared by Israel Gelover_"
   ]
  },
  {
   "cell_type": "markdown",
   "id": "9aca0166",
   "metadata": {},
   "source": [
    "### Task 1.\n",
    "\n",
    "(On paper) Let $A:\\mathcal{H} \\to \\mathcal{H}$ be a self-adjoint operator, (i.e $A=A^\\dagger$).  \n",
    "If $A\\ket{f} = \\lambda\\ket{f}$, use <a href=\"./HilbertSpace.ipynb#definition_2_2\">Definition 2.2</a> and <a href=\"./LinearOperators.ipynb#definition_2_12\">Definition 2.12</a> to conclude that the eigenvalues of an autoadjoint operator are real numbers."
   ]
  },
  {
   "cell_type": "markdown",
   "id": "dd4e9280",
   "metadata": {},
   "source": [
    "### <a name=\"task_1\">Solution</a>\n",
    "\n",
    "If $A\\ket{f} = \\lambda\\ket{f}$, then on the one hand we have that\n",
    "\n",
    "\\begin{equation*}\n",
    "    (A\\ket{f}) \\cdot \\ket{f} = (\\lambda \\ket{f}) \\cdot \\ket{f} = \\left[\\ket{f} \\cdot (\\lambda \\ket{f})\\right]^* = \\left[\\lambda (\\ket{f} \\cdot \\ket{f})\\right]^* = \\lambda^* \\braket{f}{f}\n",
    "\\end{equation*}\n",
    "\n",
    "Where $\\cdot$ is the inner product on $\\mathcal{H}$ and because by subsection **2.** of <a href=\"./HilbertSpace.ipynb#definition_2_2\">Definition 2.2</a> the inner product is linear in the second entry.\n",
    "\n",
    "On the other hand we have that\n",
    "\n",
    "\\begin{equation*}\n",
    "    \\ket{f} \\cdot (A\\ket{f}) = \\ket{f} \\cdot (\\lambda\\ket{f}) = \\lambda(\\ket{f} \\cdot \\ket{f}) = \\lambda\\braket{f}{f}\n",
    "\\end{equation*}\n",
    "\n",
    "But, since the operator is self-adjoint, by <a href=\"./LinearOperators.ipynb#definition_2_12\">Definition 2.12</a>\n",
    "\n",
    "\\begin{equation*}\n",
    "    (A\\ket{f}) \\cdot \\ket{f} = \\ket{f} \\cdot (A\\ket{f})\n",
    "\\end{equation*}\n",
    "\n",
    "Then\n",
    "\n",
    "\\begin{equation*}\n",
    "    \\lambda^* \\braket{f}{f} = \\lambda \\braket{f}{f} \\text{, if} \\braket{f}{f} > 0 \\implies \\lambda^* = \\lambda\n",
    "\\end{equation*}\n",
    "\n",
    "Therefore $P(A) \\subset \\mathbb{R}$. That is, **the eigenvalues of a self-adjoint operator are real numbers.**"
   ]
  },
  {
   "cell_type": "markdown",
   "id": "b79e0f1e",
   "metadata": {},
   "source": [
    "### Task 2.\n",
    "\n",
    "(On paper) Let $U:\\mathcal{H} \\to \\mathcal{H}$ be a unitary operator.  \n",
    "If $U\\ket{f} = \\lambda\\ket{f}$, calculate $\\braket{f}{f}$ to conclude that the eigenvalues of a unit operator are complex numbers with norm one."
   ]
  },
  {
   "cell_type": "markdown",
   "id": "bf838d54",
   "metadata": {},
   "source": [
    "### <a name=\"task_2\">Solution</a>\n",
    "\n",
    "If $U\\ket{f} = \\lambda\\ket{f}$, then\n",
    "\n",
    "\\begin{equation*}\n",
    "    \\braket{f}{f} = \\ket{f} \\cdot \\ket{f} = (U\\ket{f}) \\cdot (U\\ket{f}) = (\\lambda\\ket{f}) \\cdot (\\lambda\\ket{f}) = \\lambda^*\\lambda(\\ket{f} \\cdot \\ket{f}) = \\abs{\\lambda}^2 \\braket{f}{f}\n",
    "\\end{equation*}\n",
    "\n",
    "Where $\\cdot$ is the inner product on $\\mathcal{H}$.\n",
    "\n",
    "That is, $\\braket{f}{f} = \\abs{\\lambda}^2\\braket{f}{f}$, and because $\\braket{f}{f} > 0$ since $\\lambda$ is eigenvalue, then $\\abs{\\lambda}^2 = 1$.\n",
    "\n",
    "Therefore $P(U) \\subset \\set{z \\in \\mathbb{C} \\mid \\abs{z} = 1}$. That is, **the eigenvalues of a unitary operator are complex numbers with norm one.**"
   ]
  }
 ],
 "metadata": {
  "kernelspec": {
   "display_name": "Python 3",
   "language": "python",
   "name": "python3"
  },
  "language_info": {
   "codemirror_mode": {
    "name": "ipython",
    "version": 3
   },
   "file_extension": ".py",
   "mimetype": "text/x-python",
   "name": "python",
   "nbconvert_exporter": "python",
   "pygments_lexer": "ipython3",
   "version": "3.8.8"
  }
 },
 "nbformat": 4,
 "nbformat_minor": 5
}
