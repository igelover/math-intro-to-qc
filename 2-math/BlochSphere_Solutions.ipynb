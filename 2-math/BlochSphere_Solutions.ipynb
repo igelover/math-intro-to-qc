{
 "cells": [
  {
   "cell_type": "markdown",
   "id": "6dba718d",
   "metadata": {},
   "source": [
    "<a href=\"https://qworld.net\" target=\"_blank\" align=\"left\"><img src=\"../qworld/images/header.jpg\"  align=\"left\"></a>\n",
    "$$\n",
    "\\newcommand{\\set}[1]{\\left\\{#1\\right\\}}\n",
    "\\newcommand{\\abs}[1]{\\left\\lvert#1\\right\\rvert}\n",
    "\\newcommand{\\norm}[1]{\\left\\lVert#1\\right\\rVert}\n",
    "\\newcommand{\\inner}[2]{\\left\\langle#1,#2\\right\\rangle}\n",
    "\\newcommand{\\bra}[1]{\\left\\langle#1\\right|}\n",
    "\\newcommand{\\ket}[1]{\\left|#1\\right\\rangle}\n",
    "\\newcommand{\\braket}[2]{\\left\\langle#1|#2\\right\\rangle}\n",
    "\\newcommand{\\ketbra}[2]{\\left|#1\\right\\rangle\\left\\langle#2\\right|}\n",
    "\\newcommand{\\angleset}[1]{\\left\\langle#1\\right\\rangle}\n",
    "$$"
   ]
  },
  {
   "cell_type": "markdown",
   "id": "27ff6a6e",
   "metadata": {},
   "source": [
    "# Linear Operators\n",
    "\n",
    "_prepared by Israel Gelover_"
   ]
  }
 ],
 "metadata": {
  "kernelspec": {
   "display_name": "Python 3",
   "language": "python",
   "name": "python3"
  },
  "language_info": {
   "codemirror_mode": {
    "name": "ipython",
    "version": 3
   },
   "file_extension": ".py",
   "mimetype": "text/x-python",
   "name": "python",
   "nbconvert_exporter": "python",
   "pygments_lexer": "ipython3",
   "version": "3.8.8"
  }
 },
 "nbformat": 4,
 "nbformat_minor": 5
}
