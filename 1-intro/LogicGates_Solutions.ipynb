{
 "cells": [
  {
   "cell_type": "markdown",
   "id": "6dba718d",
   "metadata": {},
   "source": [
    "<a href=\"https://qworld.net\" target=\"_blank\" align=\"left\"><img src=\"../qworld/images/header.jpg\"  align=\"left\"></a>\n",
    "$$\n",
    "\\newcommand{\\set}[1]{\\left\\{#1\\right\\}}\n",
    "$$"
   ]
  },
  {
   "cell_type": "markdown",
   "id": "27ff6a6e",
   "metadata": {},
   "source": [
    "# Logic Gates\n",
    "\n",
    "_prepared by Israel Gelover_"
   ]
  },
  {
   "cell_type": "markdown",
   "id": "ff787c55",
   "metadata": {},
   "source": [
    "### Task 1.\n",
    "\n",
    "Show that\n",
    "$$\n",
    "XOr(a,b) = a \\oplus b = (\\overline{\\overline{a} \\land \\overline{b}}) \\land (\\overline{a \\land b})\n",
    "$$\n"
   ]
  },
  {
   "cell_type": "markdown",
   "id": "b19b2ddd",
   "metadata": {},
   "source": [
    "### <a name=\"task_1\">Solution</a>\n",
    "\n",
    "From the definition we have\n",
    "\\begin{equation*}\n",
    "    a \\oplus b = a + b - 2ab\n",
    "\\end{equation*}\n",
    "On another hand\n",
    "\\begin{equation*}\n",
    "    \\begin{split}\n",
    "        (\\overline{\\overline{a} \\land \\overline{b}}) \\land (\\overline{a \\land b}) &= [1 - (1-a)(1-b)](1 - ab)\\\\\n",
    "        &= [1 - (1-b-a+ab)](1-ab)\\\\\n",
    "        &= (a+b-ab)(1-ab)\\\\\n",
    "        &= a+b-ab-a^2b-ab^2+a^2b^2\\\\\n",
    "        \\text{Note that } a,b \\text{ are bits} &\\therefore a^2 = a \\text{ , } b^2 = b \\text{ therefore}\\\\\n",
    "        &= a+b-ab-ab-ab+ab\\\\\n",
    "        &= a+b-2ab\n",
    "    \\end{split}\n",
    "\\end{equation*}\n",
    "\n",
    "**Note that only And and Not gates were used.**"
   ]
  },
  {
   "cell_type": "markdown",
   "id": "bf532f8a",
   "metadata": {},
   "source": [
    "### Task 2.\n",
    "\n",
    "Show that And and Not gates can be implemented using the Toffoli gate; that is, this gate by itself forms a computationally\n",
    "universal set."
   ]
  },
  {
   "cell_type": "markdown",
   "id": "81cba11c",
   "metadata": {},
   "source": [
    "### <a name=\"task_2\">Solution</a>\n",
    "\n",
    "Let us first see that the Toffoli gate can be experesed in this way:\n",
    "\n",
    "\\begin{equation*}\n",
    "    \\mbox{Toffoli}(a,b,c) = \\begin{cases}\n",
    "        (a,b,\\overline{c}) \\text{ si } a = 1 = b \\\\\n",
    "        (a,b,c) \\text{ in any other case}\n",
    "    \\end{cases}\n",
    "\\end{equation*}\n",
    "\n",
    "Due to <a href=\"./LogicGates.ipynb#theorem_1_7\">Thoerem 1.7</a>, any logic gate can be built from And and Not gates. So to prove the universality of the Toffoli gate, it is enough to see that the gates And and Not can be expressed in terms of this gate.\n",
    "\n",
    "Indeed, since in this case the bit that really interests us from the output of the Toffoli gate is the one on the right, we can ignore the first two and thus express the And and Not gates in this way:\n",
    "\n",
    "\\begin{equation*}\n",
    "    \\begin{split}\n",
    "        \\mbox{And}(a,b) = \\mbox{Toffoli}(a,b,0) \\\\\n",
    "        \\mbox{Not}(a) = \\mbox{Toffoli}(1,1,a)\n",
    "    \\end{split}        \n",
    "\\end{equation*}"
   ]
  }
 ],
 "metadata": {
  "kernelspec": {
   "display_name": "Python 3",
   "language": "python",
   "name": "python3"
  },
  "language_info": {
   "codemirror_mode": {
    "name": "ipython",
    "version": 3
   },
   "file_extension": ".py",
   "mimetype": "text/x-python",
   "name": "python",
   "nbconvert_exporter": "python",
   "pygments_lexer": "ipython3",
   "version": "3.8.8"
  }
 },
 "nbformat": 4,
 "nbformat_minor": 5
}
